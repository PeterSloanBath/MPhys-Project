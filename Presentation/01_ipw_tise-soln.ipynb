{
 "cells": [
  {
   "cell_type": "markdown",
   "metadata": {},
   "source": [
    "## Solution: Total probability\n",
    "\n",
    "For this notebook to run independently we must first copy a few things from the previous notebook, specifically the functions required to find the probability density distribution."
   ]
  },
  {
   "cell_type": "code",
   "execution_count": 1,
   "metadata": {},
   "outputs": [],
   "source": [
    "#import necessary library\n",
    "import numpy as np\n",
    "\n",
    "#set constant\n",
    "L = 10**(-10)\n",
    "\n",
    "#declare necessary functions\n",
    "def psi(n, x):\n",
    "    \"\"\"\n",
    "    Computes the value of the n'th wavefunction at a position x, using the analytic solution \n",
    "    to the Schrodinger equation for an infinite potential well.\n",
    "    \n",
    "    Returns:\n",
    "        float\n",
    "            The value of the wavefunction at x\n",
    "        \n",
    "    Parameters:\n",
    "        x : float\n",
    "            The x coordinate of the system\n",
    "        \n",
    "        n : integer\n",
    "            Describes which state the wavefunction is in\n",
    "    \"\"\"\n",
    "    \n",
    "    return np.sqrt(2 / L) * np.sin(n * np.pi * x / L)\n",
    "\n",
    "def eigenfunction(n, length):\n",
    "    \"\"\"\n",
    "    Fill an array with the y-values of the n'th eigenfunction in an infinite potential well\n",
    "    \n",
    "    Returns: \n",
    "        wav : array\n",
    "            An array containing the y-avlues\n",
    "        \n",
    "    Parameters:\n",
    "        n : integer\n",
    "            describes the state of the wavefunction\n",
    "            \n",
    "        length : integer\n",
    "                 the number of x-positions we will sample over\n",
    "    \"\"\"\n",
    "    \n",
    "    length = int(length) # making sure that length is an integer\n",
    "    \n",
    "    wav = np.empty(length) # creating an empty array \n",
    "    \n",
    "    for x in np.arange(0, length):\n",
    "        wav[x] = psi(n, x * (L / length)) \n",
    "        \n",
    "    return wav\n",
    "\n",
    "def prob_dens(n, length):\n",
    "    \"\"\"\n",
    "    A function to find the probability density distribution in the well\n",
    "    \n",
    "    Returns: \n",
    "        prob : array\n",
    "               an array of length, 'length', containing the values of the probability density distribution\n",
    "        \n",
    "    Parameters:\n",
    "        n : integer\n",
    "            describes the state of the wavefunction\n",
    "            \n",
    "        length : integer\n",
    "                 the number of x-positions we will sample over\n",
    "    \"\"\"\n",
    "    \n",
    "    prob = np.empty(length)\n",
    "    psi = eigenfunction(n, length)\n",
    "    \n",
    "    for i in range(0, length):\n",
    "        prob[i] = abs(psi[i])**2\n",
    "        \n",
    "    return prob"
   ]
  },
  {
   "cell_type": "markdown",
   "metadata": {},
   "source": [
    "Now we have defined the relevant functions, we can check whether the total probability is equal to one, as expected. Since the relationship between the probability density and the probability is \n",
    "$$\n",
    "D(x_1 < x < x_2) = \\int_{x_1}^{x_2}P(x)dx\n",
    "$$\n",
    "we must integrate over the whole range of the well to find the total probability. Note that we do not need to integrate over infinite space because we have confined the particle to the infinite well. \n",
    "\n",
    "We will use the `numpy.trapz` function, which finds an approximate integral over a specified range with the trapezium rule. This function takes two equally-sized arrays as arguments. The first contains the data which you wish to integrate. In our case the first argument is the probability density distribution, which we have found using the `prob_dens` function we created earlier. The second argument is an array containing the values associated with the range you wish to integrate over. Below we have created an array containing the x-positions associated with the infinite well. We have achieved this by using the `numpy.linspace` function which returns evenly spaced numbers over a specified interval."
   ]
  },
  {
   "cell_type": "code",
   "execution_count": 2,
   "metadata": {},
   "outputs": [],
   "source": [
    "def tot_prob(n, length):\n",
    "    \"\"\"\n",
    "    A function to check that the total probability of the particle existing \n",
    "    inside the well is 1.\n",
    "    \n",
    "    Returns:\n",
    "        total_prob : float\n",
    "                     the total probability\n",
    "    \n",
    "    Parameters:\n",
    "        n : integer\n",
    "            principle quantum number\n",
    "            \n",
    "        length : integer\n",
    "                 the number of x-positions we will sample over\n",
    "    \"\"\"\n",
    "    \n",
    "    total_prob = np.trapz(prob_dens(n, length), np.linspace(0, L, length))\n",
    "    return total_prob"
   ]
  },
  {
   "cell_type": "code",
   "execution_count": 3,
   "metadata": {},
   "outputs": [
    {
     "data": {
      "text/plain": [
       "1.00010000999113"
      ]
     },
     "execution_count": 3,
     "metadata": {},
     "output_type": "execute_result"
    }
   ],
   "source": [
    "tot_prob(1, 10000)"
   ]
  }
 ],
 "metadata": {
  "kernelspec": {
   "display_name": "Python 3",
   "language": "python",
   "name": "python3"
  },
  "language_info": {
   "codemirror_mode": {
    "name": "ipython",
    "version": 3
   },
   "file_extension": ".py",
   "mimetype": "text/x-python",
   "name": "python",
   "nbconvert_exporter": "python",
   "pygments_lexer": "ipython3",
   "version": "3.7.3"
  }
 },
 "nbformat": 4,
 "nbformat_minor": 2
}
