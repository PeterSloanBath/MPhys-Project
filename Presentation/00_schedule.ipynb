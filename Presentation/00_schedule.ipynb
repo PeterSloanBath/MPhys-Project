{
 "cells": [
  {
   "cell_type": "markdown",
   "metadata": {
    "slideshow": {
     "slide_type": "slide"
    }
   },
   "source": [
    "# The Infinite Potential Well\n",
    "\n",
    "By making use of your experience of programming in Python and working in the Jupyter notebook environment these resources aim to deliver an opportunity to use code to explore quantum topics and enhance your learning. During this lesson in particular, we will be examining the simplest system for which the Schrödinger equation can be solved - the infinite potential well, in both the time-independent and time-dependent case. We will also explore the impact that a small perturbation in the potential of the system can have, which will serve as an introduction to perturbation theory."
   ]
  },
  {
   "cell_type": "markdown",
   "metadata": {
    "slideshow": {
     "slide_type": "slide"
    }
   },
   "source": [
    "## Prerequisites:\n",
    "\n",
    "To complete this lesson you should:\n",
    "\n",
    "* Be familiar with the quantum mechanical treatment of the infinite potential well.\n",
    "* Have a basic ability to understand and write code in the programming language Python.\n",
    "\n",
    "This lesson is designed to complement the second year Quantum and Atomic Physics course. As such, it is expected that you will be familiar with the concepts and mathematics encountered in that module."
   ]
  },
  {
   "cell_type": "markdown",
   "metadata": {
    "slideshow": {
     "slide_type": "slide"
    }
   },
   "source": [
    "## Schedule:\n",
    "\n",
    "| Chapter  | Episode | Description |\n",
    "|---|---|---|\n",
    "| 1 | [The Infinite Well in 1D](01_ipw_tise.ipynb) | Visualising the time-independent solutions to the Schrödinger equation for the infinite potential well in 1-dimension |\n",
    "| 2 | [A first look at perturbation theory](02_ipw_PT_energy.ipynb) | Investigating the uses of time-independent non-degenerate perturbation theory |\n",
    "| 3 | [Further applications of perturbation theory](03_ipw_PT_psi.ipynb) | Studying the effects of a perturbation on the wavefunction of the infinite potential well |\n",
    "| 4 | [Time-Dependence of the Infinite Well](04_ipw_tdse.ipynb) | Exploring how time-dependence affects our solutions for the infinite potential well |\n",
    "| 5 | [Introduction to wavepacket dynamics](05_wpd_ipw.ipynb) | An introduction to wavepacket dynamics using the infinite potential well |\n",
    "| 6 | [Further wavepacket dynamics](06_wpd_qho.ipynb) | Applying wavepacket dynamics to the case of the quantum harmonic oscillator |"
   ]
  },
  {
   "cell_type": "markdown",
   "metadata": {
    "slideshow": {
     "slide_type": "slide"
    }
   },
   "source": [
    "## Setup:\n",
    "\n",
    "The coding parts of this lesson require the use of Jupyter notebooks. If you are not sure how to access these, a tutorial can be found here[insert link]. "
   ]
  }
 ],
 "metadata": {
  "celltoolbar": "Slideshow",
  "kernelspec": {
   "display_name": "Python 3",
   "language": "python",
   "name": "python3"
  },
  "language_info": {
   "codemirror_mode": {
    "name": "ipython",
    "version": 3
   },
   "file_extension": ".py",
   "mimetype": "text/x-python",
   "name": "python",
   "nbconvert_exporter": "python",
   "pygments_lexer": "ipython3",
   "version": "3.7.3"
  }
 },
 "nbformat": 4,
 "nbformat_minor": 2
}
