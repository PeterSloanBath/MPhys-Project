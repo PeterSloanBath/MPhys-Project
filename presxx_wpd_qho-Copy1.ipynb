{
 "cells": [
  {
   "cell_type": "markdown",
   "metadata": {
    "slideshow": {
     "slide_type": "slide"
    }
   },
   "source": [
    "# Superposition and the Infinite Potential Well"
   ]
  },
  {
   "cell_type": "markdown",
   "metadata": {},
   "source": [
    "## Libraries and constants"
   ]
  },
  {
   "cell_type": "code",
   "execution_count": null,
   "metadata": {
    "slideshow": {
     "slide_type": "slide"
    }
   },
   "outputs": [],
   "source": [
    "import numpy as np\n",
    "import math\n",
    "from scipy.special import eval_hermite as herm # evaluates n'th order hermite polynomials \n",
    "import matplotlib.pyplot as plt\n",
    "from matplotlib.animation import FuncAnimation\n",
    "\n",
    "\n",
    "# constants for the infinite well\n",
    "k = 20 # force constant  \n",
    "omega = np.sqrt(k) # using atomic units, so m = 1\n",
    "\n",
    "# some limits for our plots \n",
    "x1 = -7.5\n",
    "x2 = 7.5\n",
    "\n",
    "# length of array (number of times we sample each function)\n",
    "nmax = 300 \n",
    "\n",
    "# step in x values\n",
    "step = (x2-x1) / nmax \n",
    "\n",
    "# Gaussian pulse\n",
    "shift = 2\n",
    "sigma = (x2 - x1) / 180 # standard deviation (width) of gaussian\n",
    "mu = -x1 + shift # expected position (centres gaussian at x = shift )\n",
    "\n",
    "# introduce the dimensionless variable xi in place of x\n",
    "def xi(x):\n",
    "    return np.sqrt(omega) * x "
   ]
  },
  {
   "cell_type": "markdown",
   "metadata": {},
   "source": [
    "## Gaussian Function"
   ]
  },
  {
   "cell_type": "code",
   "execution_count": null,
   "metadata": {},
   "outputs": [],
   "source": [
    "def gaussian(x, mu, sigma):\n",
    "    return (1 / (sigma * np.sqrt(2 * np.pi))) * np.exp(-0.5 * ((x - mu) / sigma)**2)\n",
    "\n",
    "# an empty array of length nmax\n",
    "g = np.empty(nmax) \n",
    "\n",
    "# filling array with values from our gaussian\n",
    "for x in np.arange(0, nmax): \n",
    "    g[x] = np.sqrt(gaussian(x * step, mu, sigma))"
   ]
  },
  {
   "cell_type": "markdown",
   "metadata": {},
   "source": [
    "## Eigenfunctions of the harmonic oscillator"
   ]
  },
  {
   "cell_type": "code",
   "execution_count": null,
   "metadata": {},
   "outputs": [],
   "source": [
    "def psi(n, x):\n",
    "    An = (omega / np.pi)**(1/4) * (1. / (math.sqrt(math.factorial(n)) * math.sqrt(2**n)))\n",
    "    return An * herm(n, xi(x)) * np.exp(-0.5 * (xi(x)**2))  \n",
    "\n",
    "# an array of 'num' eigenfunctions\n",
    "num = 50\n",
    " \n",
    "eigs = np.empty((num, nmax))\n",
    "\n",
    "for n in range(0, num): \n",
    "    for x in np.arange(0, nmax, 1):\n",
    "        eigs[n, x] = psi(n, x  * step + x1) \n",
    "        \n",
    "plt.plot(eigs[0])\n",
    "plt.plot(eigs[1])\n",
    "plt.plot(eigs[2])"
   ]
  },
  {
   "cell_type": "markdown",
   "metadata": {},
   "source": [
    "## Calculating coefficients and energies "
   ]
  },
  {
   "cell_type": "code",
   "execution_count": null,
   "metadata": {},
   "outputs": [],
   "source": [
    "# calculating the weighting of each eigenfunction\n",
    "cn = np.zeros(num)\n",
    "\n",
    "for i in range(0, num):\n",
    "    cn[i] = step * sum(g * eigs[i])\n",
    "\n",
    "# calculating the energy eigenvalues for each eigenfunction (needed for time-dependent term)\n",
    "energy = np.empty(num)\n",
    "\n",
    "for n in range(0, num):\n",
    "    energy[n] = (n + 1/2) "
   ]
  },
  {
   "cell_type": "markdown",
   "metadata": {},
   "source": [
    "## Comparing superposition state with gaussian curve"
   ]
  },
  {
   "cell_type": "code",
   "execution_count": null,
   "metadata": {},
   "outputs": [],
   "source": [
    "# superposition state\n",
    "psi_0 = 0\n",
    "for i in range(0, num):\n",
    "    psi_0 = psi_0 + cn[i] * eigs[i]\n",
    "\n",
    "xs = np.linspace(x1, x2, nmax)\n",
    "plt.plot(xs, psi_0)\n",
    "plt.plot(xs, g)"
   ]
  },
  {
   "cell_type": "markdown",
   "metadata": {},
   "source": [
    "## Animation"
   ]
  },
  {
   "cell_type": "code",
   "execution_count": null,
   "metadata": {},
   "outputs": [],
   "source": [
    "def animate(t):\n",
    "    \"\"\"\n",
    "    this function gets called by animation (imported from matplotlib)\n",
    "    each time called, it will replot with a different values for t\n",
    "    \n",
    "    Parameters:\n",
    "        t : float\n",
    "            used as a counter to display different frames of the animation \n",
    "    \n",
    "    \"\"\"\n",
    "    \n",
    "    #  defining how the wavefunction evolves with time, t\n",
    "    obj = 0\n",
    "    for n in range(0, num):\n",
    "        obj += cn[n] * eigs[n] * np.exp(-1j * energy[n] * t)  \n",
    "     \n",
    "    # setting y data for the real, imaginary, total magnitude and probability distribution plots\n",
    "    _prob = obj.real**2 + obj.imag**2\n",
    "    \n",
    "    real.set_ydata(obj.real)\n",
    "    imag.set_ydata(obj.imag)\n",
    "    prob.set_ydata(_prob)\n",
    "    mag.set_ydata(np.sqrt(_prob))\n",
    "\n",
    "    # setting data for mean position\n",
    "    _mean = sum(_prob * xs) * step\n",
    "    \n",
    "    ax3.plot(_mean, t, 'k.', ms = 1)\n",
    "    mean.set_ydata(0)\n",
    "    mean.set_xdata(_mean)\n",
    "    \n",
    "    # dynamically set the y axis of 3rd plot\n",
    "    if t > 15:\n",
    "        ax3.set_ylim(t - 15, t + 5)"
   ]
  },
  {
   "cell_type": "code",
   "execution_count": null,
   "metadata": {
    "scrolled": false
   },
   "outputs": [],
   "source": [
    "%matplotlib notebook\n",
    "\n",
    "fig, (ax1, ax2, ax3) = plt.subplots(3, figsize=(10, 12))\n",
    "     \n",
    "real, = ax1.plot(xs, eigs[1], '-b') \n",
    "imag, = ax1.plot(xs, eigs[1], '-r') \n",
    "mag, = ax1.plot(xs, eigs[1], '-k')\n",
    "prob, = ax2.plot(xs, eigs[1], '-g')\n",
    "mean, = ax2.plot(xs, eigs[1], 'ko')\n",
    "\n",
    "\n",
    "\n",
    "\n",
    "def init():\n",
    "    \"\"\"\n",
    "    initialize the figure object \n",
    "    \n",
    "    Returns:\n",
    "        real : a line object that will form the first frame of the plot\n",
    "        \n",
    "        imag : see above\n",
    "        \n",
    "        mag : see above\n",
    "        \n",
    "        prob : see above\n",
    "        \n",
    "        well : see above\n",
    "    \n",
    "    \"\"\"\n",
    "    \n",
    "    ax1.set_xlim(0.75 * x1, 0.75 * x2)\n",
    "    ax1.set_ylim(-3, 3)\n",
    "    ax2.set_xlim(0.75 * x1, 0.75 * x2)\n",
    "    ax2.set_ylim(0, 5)\n",
    "    ax3.set_xlim(0.75 * x1, 0.75 * x2)\n",
    "    ax3.set_ylim(0, 20)\n",
    "    \n",
    "    return real, imag, mag, prob, mean\n",
    "\n",
    "# the FuncAnimation function iterates through our animate function using the ts array\n",
    "dt = 0.025 # stepsize of the widths \n",
    "ts = np.arange(0, 2000, dt)\n",
    "ani = FuncAnimation(fig, animate, ts, init_func=init, interval=30, blit=True) \n",
    "    # animation object, give it the figure object, the animate function, the input for the animate function,\n",
    "    # the intialising function, interval - amount of time between each frame, blitting reduces time\n",
    "\n",
    "plt.show()"
   ]
  },
  {
   "cell_type": "code",
   "execution_count": null,
   "metadata": {},
   "outputs": [],
   "source": []
  },
  {
   "cell_type": "code",
   "execution_count": null,
   "metadata": {},
   "outputs": [],
   "source": []
  },
  {
   "cell_type": "code",
   "execution_count": null,
   "metadata": {},
   "outputs": [],
   "source": []
  },
  {
   "cell_type": "code",
   "execution_count": null,
   "metadata": {},
   "outputs": [],
   "source": []
  }
 ],
 "metadata": {
  "celltoolbar": "Slideshow",
  "kernelspec": {
   "display_name": "Python 3",
   "language": "python",
   "name": "python3"
  },
  "language_info": {
   "codemirror_mode": {
    "name": "ipython",
    "version": 3
   },
   "file_extension": ".py",
   "mimetype": "text/x-python",
   "name": "python",
   "nbconvert_exporter": "python",
   "pygments_lexer": "ipython3",
   "version": "3.7.3"
  }
 },
 "nbformat": 4,
 "nbformat_minor": 2
}
