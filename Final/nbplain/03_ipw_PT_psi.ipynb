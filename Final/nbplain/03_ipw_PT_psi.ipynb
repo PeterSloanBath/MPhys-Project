{
 "cells": [
  {
   "cell_type": "markdown",
   "metadata": {},
   "source": [
    "# Further applications of perturbation theory"
   ]
  },
  {
   "cell_type": "markdown",
   "metadata": {},
   "source": [
    "## Overview:\n",
    "- **Teaching:** 20 min\n",
    "- **Exercises:** 15 min\n",
    "\n",
    "**Questions**\n",
    "- How can perturbation theory be used to find wavefunctions?\n",
    "- How do I visualise a probability density distribution?\n",
    "\n",
    "**Objectives**\n",
    "- Investigate how perturbation theory can be applied to wavefunctions.\n",
    "- Understand that a visualisation can be made more powerful through the use of widgets."
   ]
  },
  {
   "cell_type": "markdown",
   "metadata": {},
   "source": [
    "## Information: Import Necessary Libraries\n",
    "\n",
    "Alongside the libraries imported in the previous sections, we will now need to import the `ipywidgets` library so that we can make use of widgets in our plots later on. Below are also a few functions which we have already seen but are displayed below so that we can run this notebook individually."
   ]
  },
  {
   "cell_type": "code",
   "execution_count": 1,
   "metadata": {},
   "outputs": [],
   "source": [
    "#------------------------import libraries-----------------------#\n",
    "\n",
    "import numpy as np #probably gonna need it!\n",
    "import matplotlib.pyplot as plt #for plotting purposes\n",
    "from scipy.integrate import quad #for integration\n",
    "from ipywidgets import interact, fixed #to use widgets\n",
    "import ipywidgets as widgets\n",
    "\n",
    "\n",
    "#------------------------define constants-----------------------#\n",
    "\n",
    "m = 9.11 * 10**(-31) #Particle mass in Kg (in this case mass of an electron)\n",
    "e = 1.6 * 10**(-19) #an electron volt\n",
    "hbar = (6.626 * 10**(-34)) / (2 * np.pi) #Planck's constant divided by 2Pi\n",
    "\n",
    "L = 10**(-10) #width of the infinite well\n",
    "A = np.sqrt(2 / L) # normalisation constant\n",
    "w = 0.2 * L #width of the central square perturbation\n",
    "\n",
    "#------------------------define functions-----------------------#\n",
    "\n",
    "#energy of the unperturbed system\n",
    "def energy(n):\n",
    "    \"\"\"\n",
    "    Function to calculate the energy of the particle in an infinite \n",
    "    potential well in a particular quantum state\n",
    "    \n",
    "    Returns:\n",
    "        energy : float\n",
    "                 the energy of the particle\n",
    "                 \n",
    "    Parameter:\n",
    "        n : integer\n",
    "            the state of the wavefunction\n",
    "    \"\"\"\n",
    "    \n",
    "    energy = (n**2 * (np.pi)**2 * (hbar**2)) / (2 * m * L**2)\n",
    "    return energy\n",
    "\n",
    "#wavefunction without the perturbation\n",
    "def unperturbed(n, x):\n",
    "    \"\"\"\n",
    "    Function to calculate the value of the wavefunction at a given point in the infinite potential well \n",
    "    without any perturbation\n",
    "    \n",
    "    Returns:\n",
    "        psi : float\n",
    "              the value of the wavefunction\n",
    "        \n",
    "    Parameters:\n",
    "        n : integer\n",
    "            the order of the wavefunction\n",
    "            \n",
    "        x : float\n",
    "            the position of the particle in the infinite potential well\n",
    "    \"\"\"\n",
    "    \n",
    "    psi = A * np.sin((n * np.pi * x) / L) #the solution to the unperturbed wavefunction in an infinite potential well\n",
    "    return psi"
   ]
  },
  {
   "cell_type": "markdown",
   "metadata": {},
   "source": [
    "## An example - Square perturbation in an infinite well\n",
    "### Wavefunction\n",
    "\n",
    "Having studied the impacts of perturbations on the energy of a system in the previous chapter, we will now look at finding the first-order correction to the wavefunction of the same system. We know that this is \n",
    "\n",
    "$$\n",
    "\\bigl|\\psi_{1n}\\bigl> = \\sum_{k\\neq n}\\frac{\\bigl<\\psi_{0k}\\bigl|\\hat{H}^{'}\\bigl|\\psi_{0n}\\bigl>}{E_{0n} - E_{0k}}\\bigl|\\psi_{0k}\\bigl>.\n",
    "\\tag{1}\n",
    "$$\n",
    "\n",
    "Here $n$ represents the principle quantum number and $k$ is a dummy variable, which is used to sum over various quantum states. Clearly this equation is more complicated than the first-order correction to the energy as we sum over various quantum states and must find the new wavefunction for various positions.\n",
    "\n",
    "Below are a series of functions, which result in the plot of the wavefunction as a function of position for any quantum state and any perturbation magnitude. Note that we only sum over a limited number of $\\bigl|\\psi_{0k}\\bigl>$'s, to strike a compromise between the accuracy of the wavefunction and the time it would take for the computation to be made. \n",
    "\n",
    "There are a lot of functions used so they have been broken up into smaller cell blocks so that they can be more easily interpreted. The first three functions form the individual steps involved in the maths of calculating the perturbed wavefunction. Firstly we have a function to calculate the integral, which features as the numerator in  equation 1. It can be found for different values of $k$, which will be useful when we want to sum over different quantum states.\n",
    "\n",
    "The second function calculates the value of the first term in the sum for individual values of *k*. We then store these in an array so that they can later be called individually when we multiply them by the wavefunction associated with the kth quantum state. Note that we store these values in an array now because they are fixed, unlike the wavefunction associated with the kth quantum state, which is a function of position.\n",
    "\n",
    "The third function creates an array which stores the values of the perturbed wavefunction as a function of position. We require a 'nested for loop' so that we can calculate values of the perturbed wavefunction at individual positions after summing over all values of *k*."
   ]
  },
  {
   "cell_type": "code",
   "execution_count": 2,
   "metadata": {},
   "outputs": [],
   "source": [
    "def integral(n, k, V, w):\n",
    "    \"\"\"\n",
    "    Function to calculate individual integrals, which will later be summed when finding the first-order\n",
    "    correction to the wavefunction.\n",
    "    \n",
    "    Returns:\n",
    "        perturb_1 : float\n",
    "        \n",
    "    Parameters:\n",
    "        n : integer\n",
    "            principle quantum number\n",
    "            \n",
    "        k : integer\n",
    "            dummy variable. represents the principle quantum number and is what we will sum over in a later function\n",
    "            \n",
    "        V : float\n",
    "            magnitude of the square perturbation\n",
    "            \n",
    "        w : float\n",
    "            width of the central square pertubation\n",
    "    \"\"\"\n",
    "    \n",
    "    if w > L:\n",
    "        print (\"Perturbation width exceeds that of the infinite well. Reduce perturbation width.\")\n",
    "        \n",
    "    else:\n",
    "        def integrand(x):\n",
    "            \"\"\"\n",
    "            Function to establish the integrand to be used when calculating the perturbation. Must do this \n",
    "            as cannot square the 'solution' function which is previously defined\n",
    "            \"\"\"\n",
    "            \n",
    "            return (A * np.sin((n * np.pi * x) / L)) * (np.conj(A * np.sin((k * np.pi * x) / L))) * V\n",
    "        \n",
    "        perturb_1 = quad(integrand, L/2 - w/2, L/2 + w/2)\n",
    "        return perturb_1[0]"
   ]
  },
  {
   "cell_type": "markdown",
   "metadata": {},
   "source": [
    "The second function calculates the value of the first term in the sum in equation 1 for individual values of *k*. We then store these in an array so that they can later be called individually when we multiply them by the wavefunction associated with the kth quantum state. Note that we store these values in an array now because they are fixed, unlike the wavefunction associated with the kth quantum state, which is a function of position."
   ]
  },
  {
   "cell_type": "code",
   "execution_count": 3,
   "metadata": {},
   "outputs": [],
   "source": [
    "def sum_1(n, kmax, V, w):\n",
    "    \"\"\"\n",
    "    Function to store integral values which will later be used to find the value of the corrected wavefunction.\n",
    "    For even values of k because of the symmetry in the integral for these values means that the integral is \n",
    "    equal to zero. We set these elements to zero without computing the integral to save time.\n",
    "    \n",
    "    Returns:\n",
    "        sum_1 : array\n",
    "                array containing coefficients which will be used to find the corrected wavefunction.\n",
    "        \n",
    "    Parameters:\n",
    "        n : integer\n",
    "            principle quantum number\n",
    "            \n",
    "        kmax : integer\n",
    "               value of the dummy variable up to which we will sample\n",
    "        \n",
    "        V : float\n",
    "            magnitude of the square perturbation\n",
    "        \n",
    "        w : float\n",
    "            width of the central square pertubation\n",
    "    \"\"\"\n",
    "    \n",
    "    sum_1 = np.empty(kmax)\n",
    "    \n",
    "    for i in range(0, kmax):\n",
    "        if i + 1 == n:\n",
    "            sum_1[i] = 0\n",
    "        #elif (i % 2) != 0:\n",
    "           # sum_1[i] = 0\n",
    "        else:\n",
    "            value = integral(n, i + 1, V, w) / (energy(n) - energy(i + 1))\n",
    "            sum_1[i] = value\n",
    "    \n",
    "    return sum_1"
   ]
  },
  {
   "cell_type": "markdown",
   "metadata": {},
   "source": [
    "The third function creates an array which stores the values of the perturbed wavefunction as a function of position. We require a 'nested for loop' so that we can calculate values of the perturbed wavefunction at individual positions after summing over all values of *k*."
   ]
  },
  {
   "cell_type": "code",
   "execution_count": 4,
   "metadata": {},
   "outputs": [],
   "source": [
    "def psi_correc(n, kmax, V, w):\n",
    "    \"\"\"\n",
    "    Function to find the corrected wavefunction for a particle in an infinite potential well with a small\n",
    "    central square perturbation.\n",
    "    \n",
    "    Returns:\n",
    "        new_psi : array\n",
    "                  contains the value of the corrected wavefunction for x-positions in the range of the well\n",
    "                  \n",
    "    Parameters:\n",
    "        n : integer\n",
    "            principle quantum number\n",
    "            \n",
    "        kmax : integer\n",
    "               value of the dummy variable up to which we will sample\n",
    "        \n",
    "        V : float\n",
    "            magnitude of the square perturbation\n",
    "        \n",
    "        w : float\n",
    "            width of the central square pertubation\n",
    "    \"\"\"\n",
    "    \n",
    "    new_psi = np.empty(Nx) #empty array to store (first-order) corrected wavefunctions\n",
    "    \n",
    "    for x in range(0, Nx):\n",
    "        value = 0\n",
    "        \n",
    "        for i in range(0, kmax):\n",
    "            value += (sum_1(n, kmax, V, w)[i] * unperturbed(i + 1, x * xstep))\n",
    "        \n",
    "        new_psi[x] = value + unperturbed(n, x * xstep)\n",
    "    \n",
    "    return new_psi"
   ]
  },
  {
   "cell_type": "markdown",
   "metadata": {},
   "source": [
    "We now have values for the wavefunction and will now plot it. Firstly, though, we will create a function to store the magnitude of the perturbation as a function of position. This function will be called later when we want to plot the wavefunction so that it is easier to interpret how a change in the perturbation magnitude affects the wavefunction. We sample over many points (pert_Nx) so that the lines appear vertical."
   ]
  },
  {
   "cell_type": "code",
   "execution_count": 5,
   "metadata": {},
   "outputs": [],
   "source": [
    "#the perturbation itself\n",
    "def perturbation(V, w):\n",
    "    \"\"\"\n",
    "    A function to find the perturbation\n",
    "    \n",
    "    Returns:\n",
    "        perturb : array\n",
    "                  stores individual values of the perturbed wavefunction over a range of positions.\n",
    "                  \n",
    "    Parameters:\n",
    "        V : float\n",
    "            magnitude of the square perturbation\n",
    "            \n",
    "        w : float\n",
    "            width of the perturbation\n",
    "    \"\"\"\n",
    "    \n",
    "    perturb = np.empty(pert_Nx) #random array to fill with values of the perturbation depending on arguments\n",
    "    \n",
    "    if w == 0:\n",
    "        perturb = np.zeros(pert_Nx)\n",
    "    else:\n",
    "        for i in range(0, pert_Nx):\n",
    "            if (L + w) / 2 < i * (L / pert_Nx) or i * (L / pert_Nx) < (L - w) / 2:\n",
    "                perturb[i] = 0\n",
    "            else:\n",
    "                perturb[i] = V\n",
    "            \n",
    "    return perturb"
   ]
  },
  {
   "cell_type": "markdown",
   "metadata": {},
   "source": [
    "Now we can finally plot the wavefunction using the function below. We also have a plot of the perturbation alongside the energy of the infinite well without any perturbation, so that we can compare the two - remember that perturbation theory breaks down when the perturbation becomes large relative to the Hamiltonian of the original system."
   ]
  },
  {
   "cell_type": "code",
   "execution_count": 6,
   "metadata": {},
   "outputs": [],
   "source": [
    "def unpert_psi(n):\n",
    "    \"\"\"\n",
    "    Function to allow us to plot the unperturbed wavefunction for an infinite potential well\n",
    "    \n",
    "    Returns:\n",
    "        psi : array\n",
    "              the value of the wavefunction\n",
    "        \n",
    "    Parameters:\n",
    "        n : integer\n",
    "            the order of the wavefunction\n",
    "    \"\"\"\n",
    "\n",
    "    psi = np.empty(Nx)\n",
    "    \n",
    "    for x in range(0, Nx):\n",
    "        psi[x] = unperturbed(n, x * xstep)\n",
    "        \n",
    "    return psi"
   ]
  },
  {
   "cell_type": "code",
   "execution_count": 7,
   "metadata": {},
   "outputs": [
    {
     "data": {
      "image/png": "[encoded data removed]",
      "text/plain": [
       "<Figure size 720x504 with 2 Axes>"
      ]
     },
     "metadata": {
      "needs_background": "light"
     },
     "output_type": "display_data"
    }
   ],
   "source": [
    "Nx = 100 #number of x-positions over which we will sample\n",
    "xstep = L / Nx #increments in x-position\n",
    "pert_Nx = 10000 #number of x-positions we'll sample the perturbation over\n",
    "\n",
    "@interact(n = (1, 5, 1), kmax = fixed(10), V = (-4e2, 4e2, 1e1), w = (0.0, L * 1e10, 0.1))\n",
    "def plot_psi(n, kmax, V, w):\n",
    "    \"\"\"\n",
    "    Function to plot the corrected wavefunction for a particle in an infinite potential well\n",
    "    with a small central square perturbation.\n",
    "    \n",
    "    Parameters:\n",
    "        n : integer\n",
    "            principle quantum number\n",
    "            \n",
    "        kmax : integer\n",
    "               value of the dummy variable up to which we will sample\n",
    "        \n",
    "        V : float\n",
    "            magnitude of the square perturbation\n",
    "        \n",
    "        w : float\n",
    "            width of the central square pertubation\n",
    "    \"\"\"\n",
    "    \n",
    "    #create two subplots\n",
    "    fig, (ax1, ax2) = plt.subplots(2, figsize = (10, 7))\n",
    "    \n",
    "    #-------------------------the first subplot-------------------------#\n",
    "    \n",
    "    x_pos1 = np.linspace(0, L, Nx)\n",
    "    ax1.plot(x_pos1, psi_correc(n, kmax, V * e, w * L), 'b', label = 'With perturbation')\n",
    "    ax1.plot(x_pos1, unpert_psi(n), '--', label = 'Without perturbation')\n",
    "    ax1.legend(loc = 'best')\n",
    "    ax1.set_ylim(-600000, 600000)\n",
    "    ax1.set_xlabel('x-position')\n",
    "    ax1.set_ylabel('Corrected wavefunction')\n",
    "    ax1.set_title('First-order corrected wavefunction for the n = %i state' %n)\n",
    "    \n",
    "    \n",
    "    #-------------------------the second subplot-------------------------#\n",
    "\n",
    "    pert_Nx = 10000 #number of x-positions we'll sample the perturbation over\n",
    "    x_pos2 = np.linspace(0, L, pert_Nx)\n",
    "    ax2.plot(x_pos2, perturbation(V, w * L), 'k', label = 'Square perturbation')\n",
    "    ax2.hlines(energy(n) / e, 0, L, 'r', label = 'Unperturbed energy')\n",
    "    ax2.legend(loc = 'best')\n",
    "    ax2.set_xlabel('x-position')\n",
    "    ax2.set_ylabel('Potential / eV')\n",
    "    ax2.set_title('Perturbation magnitude and position')\n",
    "    \n",
    "    fig.tight_layout() #increase the gap between subplots\n",
    "    return plt.show()"
   ]
  },
  {
   "cell_type": "markdown",
   "metadata": {},
   "source": [
    "## Information - Tip\n",
    "\n",
    "##### Widgets\n",
    "\n",
    "Note that the `ipywidgets` library has also been imported to allow the use of widgets, which make it easier to visualise the effect of changing a certain argument. When widgets are used, there is no need to for the function to create the plot to be called. Instead, a line is inserted directly above the appropriate function with the key phrase `@interact(*relevant arguments*)`. The range over which we want to sample must be specified for every argument of the function. We can also specify the increments we would like to sample over. If we want to keep an argument constant, we simply use the keyword `fixed` followed by the appropriate value."
   ]
  },
  {
   "cell_type": "markdown",
   "metadata": {},
   "source": [
    "## Exercise 1: Probability density distribution\n",
    "\n",
    "A more intuitive plot is the probability density against position. Now write two or more (or fewer!) functions, which will generate a plot of the probability density against position. Try to implement widgets for this plot. Can you explain why the plot has the shape it does? Think about the magnitude of the probability density around the perturbation region as well as the wavelength of the distribution in the regions with/without the perturbation.\n",
    "\n",
    "[solution]()"
   ]
  },
  {
   "cell_type": "markdown",
   "metadata": {},
   "source": [
    "## Solution+: Probability density distribution\n",
    "\n",
    "We can simply find the the probability distribution by squaring the absolute value of the wavefunction. Below we also have a function to help us plot the unperturbed probability distribution for comparison. We plot the probability distribution in a the same manner as plotting the wavefunction except using the `prob_dens` function."
   ]
  },
  {
   "cell_type": "code",
   "execution_count": 8,
   "metadata": {},
   "outputs": [],
   "source": [
    "def prob_dens(n, kmax, V, w):\n",
    "    \"\"\"\n",
    "    Function to store values of the probability density distribution.\n",
    "    \n",
    "    Returns:\n",
    "        prob : list\n",
    "               stores individual values of the probability density over a range of positions.\n",
    "               \n",
    "    Parameters:\n",
    "        n : integer\n",
    "            principle quantum number\n",
    "            \n",
    "        kmax : integer\n",
    "               value of the dummy variable up to which we will sample\n",
    "        \n",
    "        V : float\n",
    "            perturbation magnitude\n",
    "            \n",
    "        w : float\n",
    "            width of the square perturbation\n",
    "    \"\"\"\n",
    "\n",
    "    prob = np.empty(Nx)\n",
    "    psi = psi_correc(n, kmax, V, w)\n",
    "    for i in range(0, Nx):\n",
    "        prob[i] = abs(psi[i])**2\n",
    "    \n",
    "    return prob\n",
    "\n",
    "def unpert_prob(n):\n",
    "    \"\"\"\n",
    "    Function to allow us to plot the probability distribution for an infinite potential well\n",
    "    \n",
    "    Returns:\n",
    "        prob : array\n",
    "              the value of the probability density\n",
    "        \n",
    "    Parameters:\n",
    "        n : integer\n",
    "            the order of the wavefunction\n",
    "    \"\"\"\n",
    "\n",
    "    prob = np.empty(Nx)\n",
    "    psi = unpert_psi(n)\n",
    "    \n",
    "    for i in range(0, Nx):\n",
    "        prob[i] = abs(psi[i])**2\n",
    "        \n",
    "    return prob"
   ]
  },
  {
   "cell_type": "code",
   "execution_count": 9,
   "metadata": {},
   "outputs": [
    {
     "data": {
      "image/png": "[encoded data removed]",
      "text/plain": [
       "<Figure size 720x504 with 2 Axes>"
      ]
     },
     "metadata": {
      "needs_background": "light"
     },
     "output_type": "display_data"
    }
   ],
   "source": [
    "Nx = 100 #number of x-positions over which we will sample\n",
    "xstep = L / Nx #increments in x-position\n",
    "pert_Nx = 10000 #number of x-positions we'll sample the perturbation over\n",
    "\n",
    "@interact(n = (1, 5, 1), kmax = fixed(10), V = (-1e3, 1e3, 5e1), w = (0.0, L * 1e10, 0.1))\n",
    "def plot_prob_dens(n, kmax, V, w):\n",
    "    \"\"\"\n",
    "    A function to plot the probability density distribution as a function of position. Also plots\n",
    "    the magnitude and position of the perturbation as well as the energy of the system. The parameters \n",
    "    are connected to widgets to allow better visualisation of the evolution of the function.\n",
    "    \n",
    "    Returns:\n",
    "        plot of the probability density distribution\n",
    "        plot of the square perturbation and the energy of the system\n",
    "      \n",
    "    Parameters:\n",
    "        n : integer\n",
    "            principle quantum number\n",
    "            \n",
    "        kmax : integer\n",
    "               value of the dummy variable up to which we will sample\n",
    "        \n",
    "        V : float\n",
    "            magnitude of the perturbation\n",
    "            \n",
    "        w : float\n",
    "            width of the perturbation\n",
    "    \"\"\"\n",
    "    Nx = 100 #number of x-positions over which we will sample\n",
    "    xstep = L / Nx #increments in x-position\n",
    "    \n",
    "    fig, (ax1, ax2) = plt.subplots(nrows = 2, ncols = 1, figsize = (10, 7)) \n",
    "    \n",
    "    x_pos1 = np.linspace(0, L, Nx)\n",
    "    ax1.plot(x_pos1, prob_dens(n, kmax, V * e, w * L), 'b', label = 'With perturbation')\n",
    "    ax1.plot(x_pos1, unpert_prob(n), '--', label = 'Without perturbation')\n",
    "    ax1.legend(loc = 'best')\n",
    "    ax1.set_xlabel('x-position')\n",
    "    ax1.set_ylabel('Probability distribution')\n",
    "    ax1.set_title('Probability distribution for the first-order corrected wavefunction for the n = %i state' %n)\n",
    "    \n",
    "    \n",
    "    pert_Nx = 10000 #number of x-positions we'll sample the perturbation over\n",
    "    x_pos2 = np.linspace(0, L, pert_Nx)\n",
    "    ax2.plot(x_pos2, perturbation(V, w * L), 'k', label = 'Square perturbation')\n",
    "    ax2.hlines(energy(n) / e, 0, L, 'r', label = 'Unperturbed energy')\n",
    "    ax2.legend(loc = 'best')\n",
    "    ax2.set_xlabel('x-position')\n",
    "    ax2.set_ylabel('Potential / eV')\n",
    "    ax2.set_title('Perturbation magnitude and position')\n",
    "    \n",
    "    fig.tight_layout() #increase the gap between subplots\n",
    "    return plt.show()"
   ]
  },
  {
   "cell_type": "markdown",
   "metadata": {},
   "source": [
    "Contrary to what you might have expected, the probability increases in the area where the perturbation lies. One might have thought that the probability would be reduced in this area because particles prefer to exist in areas with lower energies so let's think about why the plot is as it is.\n",
    "\n",
    "When the perturbation magnitude is less than the energy of the system, the particle still has sufficient energy to access the region with the perturbation, however it has a lower kinetic energy now. This means that it moves more slowly and so spends more time in that region, hence an increased probability of existing in that area. We can also see that it moves more slowly in that area because of the increased wavelength of the probability distribution, indicating an increased de Broglie wavelength, which is consistent with a lower momentum, and hence, velocity. \n",
    "\n",
    "We see a similar shape when the perturbation magnitude far exceeds the energy of the unperturbed system, but we should not read into this too much because the key requirement of perturbation theory is that the perturbation should be small in comparison to the unperturbed Hamiltonian."
   ]
  },
  {
   "cell_type": "markdown",
   "metadata": {},
   "source": [
    ":Solution+"
   ]
  },
  {
   "cell_type": "markdown",
   "metadata": {},
   "source": [
    "## Exercise 2: Total Probability\n",
    "\n",
    "Think of a way of checking that your probability density distribution is correct (you may find the `numpy.trapz` function helpful!) What happens when the perturbation magnitude is made very large? Can you think why this might be?\n",
    "\n",
    "[solution]()"
   ]
  },
  {
   "cell_type": "markdown",
   "metadata": {},
   "source": [
    "## Solution+: Total Probability"
   ]
  },
  {
   "cell_type": "markdown",
   "metadata": {},
   "source": [
    "To check that this probability distribution is correct, we will integrate over the limits of the well. Once again, we will use the `numpy.trapz` function to ensure a total probability of one."
   ]
  },
  {
   "cell_type": "code",
   "execution_count": 10,
   "metadata": {},
   "outputs": [],
   "source": [
    "def tot_prob(n, kmax, V, w):\n",
    "    \"\"\"\n",
    "    A function to check that the total probability of the particle existing inside the well is 1.\n",
    "    \n",
    "    Returns:\n",
    "        total_prob : float\n",
    "                     the total probability\n",
    "    \n",
    "    Parameters:\n",
    "        n : integer\n",
    "            principle quantum number\n",
    "            \n",
    "        kmax : integer\n",
    "               value of the dummy variable up to which we will sample\n",
    "        \n",
    "        V : float\n",
    "               the perturbation magnitude. we sample perturbation magnitudes up to this value\n",
    "               \n",
    "        w : float\n",
    "            width of the perturbation\n",
    "    \"\"\"\n",
    "    \n",
    "    total_prob = np.trapz(prob_dens(n, kmax, V, w), np.linspace(0, L, Nx))\n",
    "    return total_prob"
   ]
  },
  {
   "cell_type": "markdown",
   "metadata": {},
   "source": [
    "Fortunately the total probability is approximately one for small perturbations. This is not the case for higher perturbation magnitudes but this is indicative of perturbation theory breaking down when the perturbation far exceeds the unperturbed Hamiltonian."
   ]
  },
  {
   "cell_type": "markdown",
   "metadata": {},
   "source": [
    ":solution+"
   ]
  }
 ],
 "metadata": {
  "kernelspec": {
   "display_name": "Python 3",
   "language": "python",
   "name": "python3"
  },
  "language_info": {
   "codemirror_mode": {
    "name": "ipython",
    "version": 3
   },
   "file_extension": ".py",
   "mimetype": "text/x-python",
   "name": "python",
   "nbconvert_exporter": "python",
   "pygments_lexer": "ipython3",
   "version": "3.7.4"
  }
 },
 "nbformat": 4,
 "nbformat_minor": 2
}
