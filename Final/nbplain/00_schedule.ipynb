{
 "cells": [
  {
   "cell_type": "markdown",
   "metadata": {
    "slideshow": {
     "slide_type": "slide"
    }
   },
   "source": [
    "# The Infinite Potential Well\n",
    "\n",
    "By making use of your experience of programming in Python and working in the Jupyter notebook environment these resources aim to deliver an opportunity to use code to explore quantum topics and enhance your learning. During this lesson in particular, we will be examining the simplest system for which the Schrödinger equation can be solved - the infinite potential well, in both the time-independent and time-dependent case. We will also explore the impact that a small perturbation in the potential of the system can have, which will serve as an introduction to perturbation theory."
   ]
  },
  {
   "cell_type": "markdown",
   "metadata": {
    "slideshow": {
     "slide_type": "slide"
    }
   },
   "source": [
    "## Prerequisites:\n",
    "\n",
    "To complete this lesson you should:\n",
    "\n",
    "* Be familiar with the quantum mechanical treatment of the infinite potential well.\n",
    "* Have a basic ability to understand and write code in the programming language Python.\n",
    "\n",
    "This lesson is designed to complement the second year Quantum and Atomic Physics course. As such, it is expected that you will be familiar with the concepts and mathematics encountered in that module."
   ]
  },
  {
   "cell_type": "markdown",
   "metadata": {
    "slideshow": {
     "slide_type": "slide"
    }
   },
   "source": [
    "## Schedule:\n",
    "\n",
    "| Chapter  | Episode | Description |\n",
    "|---|---|---|\n",
    "| 0 | [Set-up](00_setup.ipynb) | Instructions on running and downloading interactive notebooks |\n",
    "| 1 | [The Infinite Well in 1D](01_ipw_tise.ipynb) | Visualising the time-independent solutions to the Schrödinger equation for the infinite potential well in 1-dimension |\n",
    "| 2 | [Time-Dependence of the Infinite Well](02_ipw_tdse.ipynb) | Exploring how time-dependence affects our solutions for the infinite potential well |"
   ]
  },
  {
   "cell_type": "markdown",
   "metadata": {
    "slideshow": {
     "slide_type": "slide"
    }
   },
   "source": [
    "## Jupyter Notebooks\n",
    "\n",
    "The interactive componenets of this resource require the use of Jupyter notebooks. If you are not sure how to access these, a tutorial can be found [here](https://arc-lessons.github.io/intro-data-plotting/01_jupyter.html). "
   ]
  }
 ],
 "metadata": {
  "celltoolbar": "Slideshow",
  "kernelspec": {
   "display_name": "Python 3",
   "language": "python",
   "name": "python3"
  },
  "language_info": {
   "codemirror_mode": {
    "name": "ipython",
    "version": 3
   },
   "file_extension": ".py",
   "mimetype": "text/x-python",
   "name": "python",
   "nbconvert_exporter": "python",
   "pygments_lexer": "ipython3",
   "version": "3.7.4"
  }
 },
 "nbformat": 4,
 "nbformat_minor": 2
}
