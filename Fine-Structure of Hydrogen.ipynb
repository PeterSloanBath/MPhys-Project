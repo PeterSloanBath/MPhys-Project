{
 "cells": [
  {
   "cell_type": "markdown",
   "metadata": {},
   "source": [
    "# The Fine-Structure of Hydrogen\n",
    "\n",
    "### Relativistic Correction\n",
    "\n",
    "The lowest order relativistic correction to the Hamiltonian is $$ H^{'}_{r} = - \\frac{p^4}{8m^3c^2} $$\n",
    "\n",
    "Using non-degenerate time independent perturbation theory, it can be shown that the first order correction to the energy of the system $ E_n $ is given by\n",
    "\n",
    "$$ E^{1}_{r} = - \\frac{E^{2}_{n}}{2mc^2}\\biggl[\\frac{4n}{l + 1/2} - 3\\biggr] $$ \n",
    "\n",
    "### Spin-Orbit Correction\n",
    "\n",
    "For the spin-orbit interaction, the Hamiltonian is \n",
    "$$ H^{'}_{SO} = \\biggl(\\frac{e^2}{8\\pi\\epsilon_0}\\biggr) \\frac{1}{m^2c^2r^3} \\mathbf{S{\\cdot}L} ,$$\n",
    "\n",
    "where $ \\mathbf{L} $ and $ \\mathbf{S} $ are the angular ('orbital') and spin quantum numbers respectively. \n",
    "\n",
    "Once again taking advantage of first-order non-degenerate perturbation theory, it can be shown that the firts order correction to the energy of the system is \n",
    "\n",
    "$$ E^{1}_{SO} = \\frac{(E_n)^2}{mc^2} \\biggl\\{ \\frac{n[j(j+1)-l(l+1)-3/4]}{l(l+1/2)(l+1)} \\biggr\\}  .$$\n",
    "\n",
    "### The Fine-Structure Correction p275\n",
    "\n",
    "The SO correction and the relativistic correction are of the same order $ (E^{2}_{n} / mc^2) $. Summming them gives the complete fine-structure formula\n",
    "\n",
    "$$ E^{1}_{fs} = \\frac{(E_n)^2}{mc^2} \\biggl( 3 - \\frac{4n}{j+1/2} \\biggr) .$$\n",
    "\n",
    "Combining this result with the Bohr formula yields\n",
    "\n",
    "$$ E_{nj} = - \\frac{13.6 eV}{n^2} \\biggl[ 1 + \\frac{\\alpha^2}{n^2} \\biggl( \\frac{n}{j+1/2} - \\frac{3}{4} \\biggr) \\biggr] . $$\n",
    "\n",
    "\n",
    "\n",
    "\n",
    "\n",
    "\n",
    "\n"
   ]
  },
  {
   "cell_type": "code",
   "execution_count": 1,
   "metadata": {},
   "outputs": [],
   "source": [
    "import numpy as np\n",
    "import matplotlib.pyplot as plt"
   ]
  },
  {
   "cell_type": "code",
   "execution_count": null,
   "metadata": {},
   "outputs": [],
   "source": [
    "def bohr(n):\n",
    "    \"\"\"\n",
    "    Function to return the energy levels in a Hydrogen atom according to the Bohr formula \n",
    "    in units of electron-Volts (eV)\n",
    "    \n",
    "    Returns:\n",
    "        energy : float\n",
    "        The energy in eV of the n'th energy level\n",
    "        \n",
    "    Paramters:\n",
    "    \n",
    "    \"\"\""
   ]
  }
 ],
 "metadata": {
  "kernelspec": {
   "display_name": "Python 3",
   "language": "python",
   "name": "python3"
  },
  "language_info": {
   "codemirror_mode": {
    "name": "ipython",
    "version": 3
   },
   "file_extension": ".py",
   "mimetype": "text/x-python",
   "name": "python",
   "nbconvert_exporter": "python",
   "pygments_lexer": "ipython3",
   "version": "3.7.3"
  }
 },
 "nbformat": 4,
 "nbformat_minor": 2
}
