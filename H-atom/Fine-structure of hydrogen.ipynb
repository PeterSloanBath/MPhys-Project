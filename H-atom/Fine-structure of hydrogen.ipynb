{
 "cells": [
  {
   "cell_type": "markdown",
   "metadata": {},
   "source": [
    "# The Fine-Structure of Hydrogen\n",
    "\n",
    "### Relativistic Correction\n",
    "\n",
    "The lowest order relativistic correction to the Hamiltonian is $$ H^{'}_{r} = - \\frac{p^4}{8m^3c^2} $$\n",
    "\n",
    "Using non-degenerate time independent perturbation theory, it can be shown that the first order correction to the energy of the system $ E_n $ is given by\n",
    "\n",
    "$$ E^{1}_{r} = - \\frac{E^{2}_{n}}{2mc^2}\\biggl[\\frac{4n}{l + 1/2} - 3\\biggr] $$ \n",
    "\n",
    "### Spin-Orbit Correction\n",
    "\n",
    "For the spin-orbit interaction, the Hamiltonian is \n",
    "$$ H^{'}_{SO} = \\biggl(\\frac{e^2}{8\\pi\\epsilon_0}\\biggr) \\frac{1}{m^2c^2r^3} \\mathbf{S{\\cdot}L} ,$$\n",
    "\n",
    "where $ \\mathbf{L} $ and $ \\mathbf{S} $ are the angular ('orbital') and spin quantum numbers respectively. \n",
    "\n",
    "Once again taking advantage of first-order non-degenerate perturbation theory, it can be shown that the firts order correction to the energy of the system is \n",
    "\n",
    "$$ E^{1}_{SO} = \\frac{(E_n)^2}{mc^2} \\biggl\\{ \\frac{n[j(j+1)-l(l+1)-3/4]}{l(l+1/2)(l+1)} \\biggr\\}  .$$\n",
    "\n",
    "### The Fine-Structure Correction p275\n",
    "\n",
    "The SO correction and the relativistic correction are of the same order $ (E^{2}_{n} / mc^2) $. Summing them gives the complete fine-structure formula\n",
    "\n",
    "$$ E^{1}_{fs} = \\frac{(E_n)^2}{mc^2} \\biggl( 3 - \\frac{4n}{j+1/2} \\biggr) .$$\n",
    "\n",
    "Combining this result with the Bohr formula yields\n",
    "\n",
    "$$ E_{nj} = - \\frac{13.6 eV}{n^2} \\biggl[ 1 + \\frac{\\alpha^2}{n^2} \\biggl( \\frac{n}{j+1/2} - \\frac{3}{4} \\biggr) \\biggr] . $$\n",
    "\n",
    "\n",
    "\n",
    "\n",
    "\n",
    "\n",
    "\n"
   ]
  },
  {
   "cell_type": "code",
   "execution_count": 83,
   "metadata": {},
   "outputs": [],
   "source": [
    "import numpy as np\n",
    "import matplotlib.pyplot as plt\n",
    "\n",
    "alpha = 0.0072973525693 # the fine-structure constant, dimensionless\n",
    "m = 9.10938356 * 10**(-31) # 9.10938356\n",
    "e = -1.60217662 * 10**(-19)\n",
    "h = 6.62607015 * 10**(-34)\n",
    "epsilon = 8.85418782 * 10**(-12) \n",
    "c = 2.99792458 * 10**(8)"
   ]
  },
  {
   "cell_type": "code",
   "execution_count": 84,
   "metadata": {},
   "outputs": [],
   "source": [
    "def bohr(n : int):\n",
    "    \"\"\"\n",
    "    Function to return the energy levels in a Hydrogen atom according to the Bohr formula \n",
    "    in units of electron-Volts (eV)\n",
    "    \n",
    "    Returns:\n",
    "        energy : float\n",
    "                 The energy in eV of the n'th energy level\n",
    "        \n",
    "    Parameters:\n",
    "        n : integer\n",
    "            This represents the principal quantum number of the system and is used in determining\n",
    "            the energy. If n is not an integer, an error will be raised.\n",
    "        \n",
    "    \"\"\"\n",
    "    if not type(n) == int:\n",
    "        raise TypeError('The parameter n should be an integer')\n",
    "        \n",
    "    #energy = -13.6 / n**2\n",
    "    energy = m * e**4 / (8 * h**2 * epsilon**2 * n**2)\n",
    "    return energy\n",
    "             "
   ]
  },
  {
   "cell_type": "code",
   "execution_count": 85,
   "metadata": {},
   "outputs": [],
   "source": [
    "def fineStructure(n : int, j : float):\n",
    "    \"\"\"\n",
    "    Function to return the energy levels (in eV) in a Hydrogen atom accounting for the spin-orbit\n",
    "    interaction and as well as relativistic corrections.\n",
    "    \n",
    "    Returns:\n",
    "    \n",
    "    Parameters:\n",
    "    \n",
    "    \"\"\"\n",
    "    # we don't need l as a quantum number????\n",
    "    \n",
    "    if not type(n) == int:\n",
    "        raise TypeError('The parameter n should be an integer')\n",
    "        \n",
    "    #if not type(l) == int:\n",
    "       # raise TypeError('The parameter l should be an integer')\n",
    "    \n",
    "    #if l >= n:\n",
    "        #raise Exception('The parameter l should be less than n')\n",
    "        \n",
    "    #if l < 0: \n",
    "       # raise Exception('The parameter l should be positive or equal to zero')\n",
    "    \n",
    "    #if j != l + 0.5:\n",
    "      #  if l == 0:\n",
    "         #   raise Exception('The parameter j should be equal to l + 1/2 when l equals zero')\n",
    "       # elif j != l - 0.5:\n",
    "        #    raise Exception('The parameter j should be equal to l +/- 1/2')\n",
    "    \n",
    "    energy = bohr(1) * ( 1 + (alpha**2 / n**2) * ( n / (j + 1/2) - 3/4) ) * 1.6 * 10**(-19)\n",
    "    \n",
    "    return energy"
   ]
  },
  {
   "cell_type": "code",
   "execution_count": 86,
   "metadata": {},
   "outputs": [],
   "source": [
    "def dirac(n : int, j : int):\n",
    "    return m * c**2 * ( ( 1 + (alpha / n - (j + 1/2) + np.sqrt((j + 1/2)**2 - alpha**2))**2 )**(-0.5) - 1)"
   ]
  },
  {
   "cell_type": "code",
   "execution_count": 100,
   "metadata": {},
   "outputs": [],
   "source": [
    "nmax = 10\n",
    "\n",
    "length = int(nmax * (nmax + 1) / 2)\n",
    "\n",
    "fs = np.empty(length)\n",
    "dira = np.empty(length)\n",
    "\n",
    "i = 0\n",
    "for n in range(1, nmax + 1):\n",
    "    for l in range(0, n):\n",
    "        j = l + 1/2\n",
    "        fs[i] = fineStructure(n, j)\n",
    "        i += 1\n",
    "        \n",
    "i = 0\n",
    "for n in range(1, nmax + 1):\n",
    "    for l in range(0, n):\n",
    "        j = l + 1/2\n",
    "        dira[i] = dirac(n, j)\n",
    "        i += 1"
   ]
  },
  {
   "cell_type": "code",
   "execution_count": 101,
   "metadata": {},
   "outputs": [
    {
     "data": {
      "text/plain": [
       "[<matplotlib.lines.Line2D at 0x11cbd83c8>]"
      ]
     },
     "execution_count": 101,
     "metadata": {},
     "output_type": "execute_result"
    },
    {
     "data": {
      "image/png": "[encoded data removed]",
      "text/plain": [
       "<Figure size 432x288 with 1 Axes>"
      ]
     },
     "metadata": {
      "needs_background": "light"
     },
     "output_type": "display_data"
    }
   ],
   "source": [
    "diff = np.zeros(length)\n",
    "for i in range(0, length):\n",
    "    diff[i] = fs[i] - dira[i]\n",
    "    \n",
    "plt.plot(diff, 'k.', ms = 3)"
   ]
  },
  {
   "cell_type": "code",
   "execution_count": 102,
   "metadata": {},
   "outputs": [
    {
     "data": {
      "text/plain": [
       "array([-2.16390805e-18, -5.37038064e-19, -5.40993137e-19, -2.36933526e-19,\n",
       "       -2.39563015e-19, -2.40442722e-19, -1.32293844e-19, -1.34260527e-19,\n",
       "       -1.34919301e-19, -1.35249292e-19, -8.40422830e-20, -8.56112789e-20,\n",
       "       -8.61374936e-20, -8.64012046e-20, -8.65596244e-20, -5.79297172e-20,\n",
       "       -5.92335874e-20, -5.96714283e-20, -5.98909526e-20, -6.00228604e-20,\n",
       "       -6.01108795e-20, -4.22436775e-20, -4.33581718e-20, -4.37328883e-20,\n",
       "       -4.39208506e-20, -4.40338212e-20, -4.41092155e-20, -4.41631081e-20,\n",
       "       -3.21010687e-20, -3.30735308e-20, -3.34009041e-20, -3.35651948e-20,\n",
       "       -3.36639625e-20, -3.37298882e-20, -3.37770175e-20, -3.38123861e-20,\n",
       "       -2.51735125e-20, -2.60355051e-20, -2.63260558e-20, -2.64719352e-20,\n",
       "       -2.65596563e-20, -2.66182175e-20, -2.66600864e-20, -2.66915097e-20,\n",
       "       -2.67159628e-20, -2.02369860e-20, -2.10106028e-20, -2.12716955e-20,\n",
       "       -2.14028459e-20, -2.14817295e-20, -2.15343992e-20, -2.15720598e-20,\n",
       "       -2.16003269e-20, -2.16223252e-20, -2.16399319e-20])"
      ]
     },
     "execution_count": 102,
     "metadata": {},
     "output_type": "execute_result"
    }
   ],
   "source": [
    "dira"
   ]
  },
  {
   "cell_type": "code",
   "execution_count": 70,
   "metadata": {},
   "outputs": [
    {
     "data": {
      "text/plain": [
       "array([-2.17602897e-18, -5.44009053e-19, -5.44001811e-19, -2.41780997e-19,\n",
       "       -2.41778851e-19, -2.41778135e-19, -1.36001471e-19, -1.36000566e-19,\n",
       "       -1.36000264e-19, -1.36000113e-19, -8.70407879e-20, -8.70403244e-20,\n",
       "       -8.70401699e-20, -8.70400927e-20, -8.70400463e-20, -6.04449138e-20,\n",
       "       -6.04446456e-20, -6.04445562e-20, -6.04445115e-20, -6.04444847e-20,\n",
       "       -6.04444668e-20, -4.44084649e-20, -4.44082960e-20, -4.44082397e-20,\n",
       "       -4.44082115e-20, -4.44081946e-20, -4.44081834e-20, -4.44081753e-20,\n",
       "       -3.40002051e-20, -3.40000919e-20, -3.40000542e-20, -3.40000354e-20,\n",
       "       -3.40000240e-20, -3.40000165e-20, -3.40000111e-20, -3.40000071e-20,\n",
       "       -2.68643432e-20, -2.68642638e-20, -2.68642373e-20, -2.68642240e-20,\n",
       "       -2.68642161e-20, -2.68642108e-20, -2.68642070e-20, -2.68642042e-20,\n",
       "       -2.68642019e-20, -2.17601072e-20, -2.17600492e-20, -2.17600299e-20,\n",
       "       -2.17600203e-20, -2.17600145e-20, -2.17600106e-20, -2.17600079e-20,\n",
       "       -2.17600058e-20, -2.17600042e-20, -2.17600029e-20])"
      ]
     },
     "execution_count": 70,
     "metadata": {},
     "output_type": "execute_result"
    }
   ],
   "source": [
    "fs"
   ]
  },
  {
   "cell_type": "code",
   "execution_count": 99,
   "metadata": {},
   "outputs": [
    {
     "data": {
      "text/plain": [
       "array([2.16390805e-18, 5.37038064e-19, 5.40993137e-19, 2.36933526e-19,\n",
       "       2.39563015e-19, 2.40442722e-19, 1.32293844e-19, 1.34260527e-19,\n",
       "       1.34919301e-19, 1.35249292e-19, 8.40422830e-20, 8.56112789e-20,\n",
       "       8.61374936e-20, 8.64012046e-20, 8.65596244e-20, 5.79297172e-20,\n",
       "       5.92335874e-20, 5.96714283e-20, 5.98909526e-20, 6.00228604e-20,\n",
       "       6.01108795e-20, 4.22436775e-20, 4.33581718e-20, 4.37328883e-20,\n",
       "       4.39208506e-20, 4.40338212e-20, 4.41092155e-20, 4.41631081e-20,\n",
       "       3.21010687e-20, 3.30735308e-20, 3.34009041e-20, 3.35651948e-20,\n",
       "       3.36639625e-20, 3.37298882e-20, 3.37770175e-20, 3.38123861e-20,\n",
       "       2.51735125e-20, 2.60355051e-20, 2.63260558e-20, 2.64719352e-20,\n",
       "       2.65596563e-20, 2.66182175e-20, 2.66600864e-20, 2.66915097e-20,\n",
       "       2.67159628e-20, 2.02369860e-20, 2.10106028e-20, 2.12716955e-20,\n",
       "       2.14028459e-20, 2.14817295e-20, 2.15343992e-20, 2.15720598e-20,\n",
       "       2.16003269e-20, 2.16223252e-20, 2.16399319e-20, 1.65983526e-20,\n",
       "       1.72996621e-20, 1.75366526e-20, 1.76557521e-20, 1.77274051e-20,\n",
       "       1.77752544e-20, 1.78094719e-20, 1.78351566e-20, 1.78551464e-20,\n",
       "       1.78711463e-20, 1.78842425e-20, 1.38413941e-20, 1.44824473e-20,\n",
       "       1.46993528e-20, 1.48084097e-20, 1.48740373e-20, 1.49178696e-20,\n",
       "       1.49492178e-20, 1.49727506e-20, 1.49910666e-20, 1.50057275e-20,\n",
       "       1.50177281e-20, 1.50277323e-20, 1.17040169e-20, 1.22940840e-20,\n",
       "       1.24939944e-20, 1.25945539e-20, 1.26550829e-20, 1.26955162e-20,\n",
       "       1.27244366e-20, 1.27461485e-20, 1.27630483e-20, 1.27765762e-20,\n",
       "       1.27876498e-20, 1.27968815e-20, 1.28046955e-20, 1.00145662e-20,\n",
       "       1.05609310e-20, 1.07462742e-20, 1.08395501e-20, 1.08957090e-20,\n",
       "       1.09332289e-20, 1.09600682e-20, 1.09802194e-20, 1.09959052e-20,\n",
       "       1.10084620e-20, 1.10187410e-20, 1.10273106e-20, 1.10345643e-20,\n",
       "       1.10407837e-20, 8.65684056e-21, 9.16533004e-21, 9.33804833e-21,\n",
       "       9.42501177e-21, 9.47738321e-21, 9.51237811e-21, 9.53741393e-21,\n",
       "       9.55621239e-21, 9.57084620e-21, 9.58256132e-21, 9.59215174e-21,\n",
       "       9.60014741e-21, 9.60691559e-21, 9.61271878e-21, 9.61774964e-21,\n",
       "       7.54992700e-21, 8.02527553e-21, 8.18694702e-21, 8.26838707e-21,\n",
       "       8.31744451e-21, 8.35023005e-21, 8.37368777e-21, 8.39130265e-21,\n",
       "       8.40501591e-21, 8.41599456e-21, 8.42498243e-21, 8.43247600e-21,\n",
       "       8.43881929e-21, 8.44425831e-21, 8.44897354e-21, 8.45310045e-21,\n",
       "       6.63609526e-21, 7.08220179e-21, 7.23412611e-21, 7.31069257e-21,\n",
       "       7.35682587e-21, 7.38766199e-21, 7.40972727e-21, 7.42629781e-21,\n",
       "       7.43919880e-21, 7.44952766e-21, 7.45798387e-21, 7.46503438e-21,\n",
       "       7.47100278e-21, 7.47612047e-21, 7.48055721e-21, 7.48444045e-21,\n",
       "       7.48786766e-21, 5.87327095e-21, 6.29338458e-21, 6.43664472e-21,\n",
       "       6.50887915e-21, 6.55241320e-21, 6.58151650e-21, 6.60234404e-21,\n",
       "       6.61798629e-21, 6.63016527e-21, 6.63991652e-21, 6.64790014e-21,\n",
       "       6.65455683e-21, 6.66019201e-21, 6.66502406e-21, 6.66921325e-21,\n",
       "       6.67287988e-21, 6.67611597e-21, 6.67899317e-21, 5.23021076e-21,\n",
       "       5.62706757e-21, 5.76257558e-21, 5.83093393e-21, 5.87214237e-21,\n",
       "       5.89969524e-21, 5.91941534e-21, 5.93422701e-21, 5.94575999e-21,\n",
       "       5.95499443e-21, 5.96255520e-21, 5.96885952e-21, 5.97419655e-21,\n",
       "       5.97877304e-21, 5.98274075e-21, 5.98621357e-21, 5.98927866e-21,\n",
       "       5.99200385e-21, 5.99444269e-21, 4.68332605e-21, 5.05925172e-21,\n",
       "       5.18778280e-21, 5.25265270e-21, 5.29176807e-21, 5.31792556e-21,\n",
       "       5.33664897e-21, 5.35071311e-21, 5.36166468e-21, 5.37043400e-21,\n",
       "       5.37761422e-21, 5.38360141e-21, 5.38867008e-21, 5.39301657e-21,\n",
       "       5.39678493e-21, 5.40008334e-21, 5.40299452e-21, 5.40558291e-21,\n",
       "       5.40789936e-21, 5.40998459e-21])"
      ]
     },
     "execution_count": 99,
     "metadata": {},
     "output_type": "execute_result"
    }
   ],
   "source": [
    "diff"
   ]
  },
  {
   "cell_type": "code",
   "execution_count": null,
   "metadata": {},
   "outputs": [],
   "source": []
  }
 ],
 "metadata": {
  "kernelspec": {
   "display_name": "Python 3",
   "language": "python",
   "name": "python3"
  },
  "language_info": {
   "codemirror_mode": {
    "name": "ipython",
    "version": 3
   },
   "file_extension": ".py",
   "mimetype": "text/x-python",
   "name": "python",
   "nbconvert_exporter": "python",
   "pygments_lexer": "ipython3",
   "version": "3.7.3"
  }
 },
 "nbformat": 4,
 "nbformat_minor": 2
}
