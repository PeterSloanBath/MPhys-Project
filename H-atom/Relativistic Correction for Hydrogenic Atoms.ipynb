{
 "cells": [
  {
   "cell_type": "markdown",
   "metadata": {},
   "source": [
    "# X Relativistic Corrections\n",
    "\n",
    "## X.1 Introduction\n",
    "\n",
    "For a hydrogen atom, the gross structure of its spectral lines depends only on the principal quantum number $n$, the energies for which are given by the Bohr formula. This formula, however, fails to predict the fine structure that is observed in more precise measurements of the hydrogen spectrum; careful observations reveal that spectral lines are actually split into different components. The appearance of this fine structure is due to spin-orbit coupling and a relativistic correction. \n",
    "\n",
    "It is the relativistic correction to the (non-relativistic) Schrodinger equation that is discussed, and derived, in this section. In order to obtain the relativistic correction to the energy levels of hydrogen, we must use perturbation theory (or, more specifically, time-independent non-degenerate perturbation theory. In this approach, relativistic effects are treated as a small perturbation on an unperturbed state, which is the non-relativistic solution to the Schrodinger equation.\n",
    "\n",
    "## X.2 Derivation of the Relativistic Correction\n",
    "\n",
    "### X.2.1 Relativistic Correction to the Hamiltonian\n",
    "\n",
    "Previously, when solving the Schrodinger equation for the hydrogen atom, the Hamiltonian was taken to be \n",
    "\n",
    "$$ H = -\\frac{\\hbar^2}{2m}\\nabla^2 - \\frac{e^2}{4\\pi\\epsilon_0 r} , \\tag{1}$$\n",
    "\n",
    "with the first two terms corresponding to kinetic energy and Coulombic potential energy respectively. $[$Note: If you cannot see how the first term in the Hamiltonian relates to kinetic energy, remember that the quantum mechanical momentum operator is $ \\mathbf{p} = (\\hbar / i)\\ \\nabla^2 $, and substitute this into $(2)].$ \n",
    "\n",
    "Equation $(1)$, however, utilises the classical expression for kinetic energy \n",
    "\n",
    "$$ K_{c} = \\frac{1}{2} m v^2 = \\frac{p^2}{2m},  \\tag{2}$$\n",
    "\n",
    "as opposed to the relativistic formula, where the relativistic kinetic energy is given by\n",
    "\n",
    "$$ K_{rel} = \\frac{mc^2}{\\sqrt{1-(v/c)^2}} - mc^2. \\tag{3}$$\n",
    "\n",
    "$K_{rel}$ can be expressed in terms of the relativistic momentum, \n",
    "\n",
    "$$ p = \\frac{mv}{\\sqrt{1-(v/c)^2}} \\ , \\tag{3}$$\n",
    "\n",
    "instead of relativistic velocity as\n",
    "\n",
    "$$ K_{rel} = \\sqrt{p^2 c^2 + m^2 c^4} - mc^2 \\ .\\tag{4}$$\n",
    "\n",
    "Expanding this in powers of $p/mc$ gives\n",
    "\n",
    "$$ K_{rel} = \\frac{p^2}{2m} - \\frac{p^4}{8m^3 c^2} + ... \\ . \\tag{5}$$\n",
    "\n",
    "The leading term here is simply the non-relativistic kinetic energy, and so the lowest-order correction to the Hamiltonian due to relativistic effects is \n",
    "\n",
    "$$ H_{r}^{'} = -\\frac{p^4}{8m^3c^2} \\ , \\tag{6} $$\n",
    "\n",
    "where $p$ is now the relativistic momentum, rather than the classical momentum.\n",
    "\n",
    "### X.2.2 Using Perturbation Theory\n",
    "\n",
    "Recall that, in first-order perturbation theory, the correction to the n'th energy level $E_n$ is given by the expectation value of the perturbing Hamiltonian $H^{'}$ in the unperturbed state \n",
    "\n",
    "$$ E^{'}_{r} = \\ < H^{'}_{r} > \\ = \\ < \\psi | H^{'}_{r} | \\psi > . \\tag{7}$$\n",
    "\n",
    "Substituting in the form of $H^{'}_{r}$ from $(6)$ gives\n",
    "\n",
    "$$ E^{'}_{r} = - \\frac{1}{8m^3c^2} < \\psi | p^4 | \\psi > \\ = - \\frac{1}{8m^3c^2} < p^2 \\psi | p^2 \\psi > . \\tag{8} $$\n",
    "\n",
    "A simple rearrangement of the Schrodinger equation yields $ p^2 \\psi = 2m(E-V)\\psi $ and hence $(8)$ becomes\n",
    "\n",
    "$$ E^{'}_{r} = -\\frac{1}{2mc^2} < (E-V)^2 > \\ = -\\frac{1}{2mc^2} \\ (E^2 - 2E<V> + <V^2>). \\tag{9}$$\n",
    "\n",
    "For the specific case of Hydrogen, we have $ V(r) = -e^2/4\\pi \\epsilon_0 r $ :\n",
    "\n",
    "$$ E^{1}_{r} = -\\frac{1}{2mc^2} \\biggl[ E^{2}_{n} +2 E^{2}_{n} \\biggl(\\frac{e^2}{4\\pi \\epsilon_0}\\biggr) \\biggl< \\frac{1}{r} \\biggr> + \\biggl(\\frac{e^2}{4\\pi \\epsilon_0}\\biggr)^2 \\biggl< \\frac{1}{r^2} \\biggr> \\biggr] \\tag{10}$$\n",
    "\n",
    "The expectation values of $ 1/r $ and $ 1/r^2 $ are\n",
    "\n",
    "$$ \\biggl< \\frac{1}{r} \\biggr> \\ = \\frac{1}{n^2a} \\ \\tag{11} $$ \n",
    "\n",
    "and\n",
    "\n",
    "$$ \\biggl< \\frac{1}{r^2} \\biggr> \\ = \\frac{1}{(l+1/2)n^3a^@} \\ ,\\tag{12} $$ \n",
    "\n",
    "where $ a = 4\\pi\\epsilon_0\\hbar^2 / me^2 $ is the Bohr radius. Making the substitutions from $(11)$ and $(12)$ (as well as for $a$), and expressing everything in terms of $E_n$ (as defined by the Bohr formula) yields the final form of the correction to the energy levels due to relativistic considerations:\n",
    "\n",
    "$$ E^{1}_{r} = -\\frac{(E_n)^2}{2mc^2}\\biggl[ \\frac{4n}{l + 1/2} - 3 \\biggr] \\ . \\tag{13} $$\n",
    "\n",
    "### X.2.3 The Effect of the Relativistic Correction\n",
    "\n",
    "Now that we have derived the relativistic correction to the hydrogen atom, we ought to explore the impact it has on the energy levels of hydrogen. \n",
    "\n",
    "**Something about the correction breaking the degeneracy in l? also justify why it was okay to use non-degenerate perturbation theory here instead of degenerate PT?**\n",
    "\n",
    "**Task X.1:** \n",
    "Write a function that takes $n$ and $l$ - the principal and orbital angular momentum quantum numbers - and returns the energy shift (in electron-Volts) of the hydrogen atom due to the relativistic correction. Compute this shift for the 1s ($ n = 1 $ and $ l = 0 $) state. By what factor is the relativistic correction smaller than $ E_n $?\n",
    " \n",
    "**Task X.2:**\n",
    "Alter your function so that the parameters $n$ and $l$ must obey the rules that constrain these quantum numbers, i.e. an error will be raised if values for $n$ and $l$ are used that break these rules. Test your function for different values of $n$ and $l$.\n"
   ]
  },
  {
   "cell_type": "code",
   "execution_count": 42,
   "metadata": {},
   "outputs": [],
   "source": [
    "# Solution for task X.1\n",
    "import numpy as np\n",
    "\n",
    "m = 510998.946 # rest mass of an electron in eV/c^2\n",
    "c = 299792458 # speed of light in m/s\n",
    "\n",
    "def rel_H(n : int, l : int):\n",
    "    \"\"\"\n",
    "    Computes the first-order correction to the energy of an n'th level hydrogen atom due to relativistic\n",
    "    effects\n",
    "    \n",
    "    \n",
    "    \"\"\"\n",
    "    energy = (-13.6 / n**2)**2 / (2 * m) * ( 4 * n / (l + 0.5) - 3) \n",
    "    # by using units of eV/c^2 for the rest mass of the electron, we\n",
    "    # do not need to include the factor of 1/c^2 in this equation.\n",
    "    \n",
    "    return energy\n",
    "\n",
    "shift = rel_H(1, 0) # energy shift in eV\n",
    "ratio = shift / 13.6 # ratio is ~10^-5\n"
   ]
  },
  {
   "cell_type": "code",
   "execution_count": 43,
   "metadata": {},
   "outputs": [
    {
     "data": {
      "text/plain": [
       "0.0009048942343611018"
      ]
     },
     "execution_count": 43,
     "metadata": {},
     "output_type": "execute_result"
    }
   ],
   "source": [
    "shift "
   ]
  },
  {
   "cell_type": "code",
   "execution_count": 44,
   "metadata": {},
   "outputs": [
    {
     "data": {
      "text/plain": [
       "6.653634076184572e-05"
      ]
     },
     "execution_count": 44,
     "metadata": {},
     "output_type": "execute_result"
    }
   ],
   "source": [
    "ratio"
   ]
  },
  {
   "cell_type": "code",
   "execution_count": 45,
   "metadata": {},
   "outputs": [],
   "source": [
    "# solution for task X.2\n",
    "\n",
    "def rel_H(n : int, l : int):\n",
    "    \"\"\"\n",
    "    Computes the first-order correction to the energy of an n'th level hydrogen atom due to relativistic\n",
    "    effects\n",
    "    \n",
    "    \n",
    "    \"\"\"\n",
    "    if not type(n) == int:\n",
    "        raise TypeError('The parameter n should be an integer')\n",
    "        \n",
    "    if not type(l) == int:\n",
    "        raise TypeError('The parameter l should be an integer')\n",
    "        \n",
    "    if n <= 0:\n",
    "        raise Exception('The parameter n should be a positive integer that is greater than zero')\n",
    "    \n",
    "    if l >= n:\n",
    "        raise Exception('The parameter l should be less than n')\n",
    "        \n",
    "    if l < 0: \n",
    "        raise Exception('The parameter l should be positive or equal to zero')\n",
    "    \n",
    "    energy = (-13.6 / n**2)**2 / (2 * m) * ( 4 * n / (l + 0.5) - 3) \n",
    "    # by using units of eV/c^2 for the rest mass of the electron, we\n",
    "    # do not need to include the factor of 1/c^2 in this equation.\n",
    "    \n",
    "    return energy"
   ]
  },
  {
   "cell_type": "markdown",
   "metadata": {},
   "source": [
    "## X. 3 The Relativistic Correction and Hydrogenic Atoms\n",
    "\n",
    "In the previous section, you have seen that for hydrogen-like atoms (i.e. atoms with a single electron) with $Z$ protons, the mean radius of each atomic orbital shrinks as the number of protons increases due to the increasing strength of the Coulomb interaction between the nucleus and the electron. It will be interesting to see if this increases or decreases the effect of the relativistic correction on an atom's energy levels.  You (you!) should be able to generalise equation $(13)$ to the case of a hydrogenic atom with a nucleus composed of Z protons:\n",
    "\n",
    "$$ E^{1}_{r,Z} = Z^2 \\frac{(E_n)^2}{2mc^2} \\biggl[ \\frac{4n}{l + 1/2} - 3 \\biggr] \\ . \\tag{14} $$\n",
    "\n",
    "**Task X.3**\n",
    "Further alter the function that you wrote in task X.1 to calculate the energy shift in hydrogen-like atoms with Z protons. Use this to compare the ratio between the correction to the energy and the energy given by the Bohr formula for hydrogenic atoms with Z protons for the 1s state up to Z = 100. Create a plot to display your results."
   ]
  },
  {
   "cell_type": "code",
   "execution_count": 144,
   "metadata": {},
   "outputs": [
    {
     "data": {
      "text/plain": [
       "250"
      ]
     },
     "execution_count": 144,
     "metadata": {},
     "output_type": "execute_result"
    }
   ],
   "source": [
    "import numpy as np\n",
    "import matplotlib.pyplot as plt\n",
    "\n",
    "num = 250\n",
    "\n",
    "Zs = np.linspace(1,num+1,num) # array filled with Z values\n",
    "len(Zs)"
   ]
  },
  {
   "cell_type": "code",
   "execution_count": 145,
   "metadata": {},
   "outputs": [],
   "source": [
    "# solution to task X.3\n",
    "def relativistic(Z : int, n : int, l : int):\n",
    "    \"\"\"\n",
    "    A function to determine the shift in energy of a hydrogenic atom with Z protons due to relativistic corrections\n",
    "    \n",
    "    Returns:\n",
    "        energy : float\n",
    "                 The energy shift in eV\n",
    "    \n",
    "    Parameters:\n",
    "        \n",
    "    \"\"\"\n",
    "    \n",
    "    if not type(Z) == int:\n",
    "        raise TypeError('The parameter Z should be an integer')\n",
    "        \n",
    "    if not type(n) == int:\n",
    "        raise TypeError('The parameter n should be an integer')\n",
    "        \n",
    "    if n <= 0:\n",
    "        raise Exception('The parameter n should be a positive integer greater than zero')\n",
    "        \n",
    "    if not type(l) == int:\n",
    "        raise TypeError('The parameter l should be an integer')\n",
    "    \n",
    "    if l >= n:\n",
    "        raise Exception('The parameter l should be less than n')\n",
    "        \n",
    "    if l < 0: \n",
    "        raise Exception('The parameter l should be positive or equal to zero')\n",
    "    \n",
    "    energy = -(( (Z**2 * 13.6 / n**2)**2) / (2 * m )) * (4 * n / (l + 1/2) - 3)\n",
    "    \n",
    "    return energy\n",
    "    "
   ]
  },
  {
   "cell_type": "code",
   "execution_count": 146,
   "metadata": {},
   "outputs": [],
   "source": [
    "def bohr(Z : int, n : int):\n",
    "    \"\"\"\n",
    "    Determines the energy of the n'th level of a hydrogen-like ('single-electron') atom with Z protons.\n",
    "    \n",
    "    Returns:\n",
    "    \n",
    "    Paramters:\n",
    "    \n",
    "    \"\"\"\n",
    "    if not type(n) == int:\n",
    "        raise TypeError('The parameter n should be an integer')\n",
    "        \n",
    "    if n <= 0:\n",
    "        raise Exception('The parameter n should be a positive integer greater than zero')\n",
    "    \n",
    "    energy = -13.6 * (Z / n)**2\n",
    "    \n",
    "    return energy"
   ]
  },
  {
   "cell_type": "code",
   "execution_count": 147,
   "metadata": {},
   "outputs": [],
   "source": [
    " # the fractional correction to the energy level of the 1s state\n",
    "def frac(Z, n, l):\n",
    "    frac = relativistic(Z,n,l) / bohr(Z,n)\n",
    "    return frac"
   ]
  },
  {
   "cell_type": "code",
   "execution_count": 148,
   "metadata": {},
   "outputs": [
    {
     "data": {
      "image/png": "[encoded data removed]",
      "text/plain": [
       "<Figure size 648x648 with 1 Axes>"
      ]
     },
     "metadata": {
      "needs_background": "light"
     },
     "output_type": "display_data"
    }
   ],
   "source": [
    "# array filled with fractional corrections\n",
    "y = np.empty(num)\n",
    "for i in range(0,num):\n",
    "    y[i] = frac(i+1, 1, 0)\n",
    "\n",
    "fig = plt.figure(figsize = (9, 9))\n",
    "plt.plot(Zs, y )\n",
    "plt.xlabel('Z')\n",
    "plt.ylabel('Fractional Correction To Energy')\n",
    "plt.show()"
   ]
  },
  {
   "cell_type": "markdown",
   "metadata": {},
   "source": [
    "Your plot should show that the relativistic correction has a greater effect as Z increases. Why? A greater number of protons in the nucleus will produce a stronger Coulomb interaction and, as can be seen from your previous plot of mean radius against Z, will cause to electron to orbit closer to the nucleus (or more accurately, be more likely to be found closer to the nucleus). This will lead to the average velocity of an electron to increase as Z increases, and thus relativistic effects will become more apparent. \n",
    "\n",
    "Let's check that this increase in velocity is indeed the case. The three-dimensional Virial theorem (for stationary states) says that\n",
    "\n",
    "$$ 2\\bigl< K \\bigr> = \\bigl< \\mathbf{r} \\cdot \\nabla V \\bigr> \\ .\\tag{15}$$\n",
    "\n",
    "For Hydrogenic atoms, it can be shown that the expectation value for the kinetic energy is  $ \\bigl< K \\bigr> = - E_{n, l} $. Rearranging the relativistic kinetic energy formula in $(3)$, we can therefore find the expected velocity of an electron in the state defined by the quantum numbers $n$ and $l$\n",
    "\n",
    "$$\n",
    "< v > = c \\ \\sqrt{1 - \\biggl( \\frac{mc^2}{<K>+ mc^2} \\biggr)^2}\n",
    "\\ . \\tag{16}\n",
    "$$\n",
    "\n",
    "Let's define a function to calculate this velocity for a given $Z, \\ n$ and $l$, and plot $<v>$ against $Z$."
   ]
  },
  {
   "cell_type": "code",
   "execution_count": 149,
   "metadata": {
    "scrolled": true
   },
   "outputs": [],
   "source": [
    "def vel(Z : int, n : int, l : int):\n",
    "    \"\"\"\n",
    "    Computes the expected velocity of an electron in the orbital defined by the quantum numbers n and l, \n",
    "    of a hydrogenic atom with Z protons, with relativistic effects taken into account.\n",
    "    \n",
    "    \"\"\"\n",
    "    c = 2.998 * 10**8\n",
    "    m = 9.11 * 10**(-31)\n",
    "    \n",
    "    K = -(relativistic(Z, n, l) + bohr(Z, n))\n",
    "    \n",
    "    v = c * np.sqrt( 1 - ((m*c**2) / (K*1.6*10**(-19) + m*c**2))**2)\n",
    "    \n",
    "    return v"
   ]
  },
  {
   "cell_type": "code",
   "execution_count": 150,
   "metadata": {},
   "outputs": [],
   "source": [
    "y2 = np.empty(num)\n",
    "for i in range(0, num):\n",
    "    y2[i] = vel(i+1, 1, 0)"
   ]
  },
  {
   "cell_type": "code",
   "execution_count": 151,
   "metadata": {},
   "outputs": [
    {
     "data": {
      "image/png": "[encoded data removed]",
      "text/plain": [
       "<Figure size 648x648 with 1 Axes>"
      ]
     },
     "metadata": {
      "needs_background": "light"
     },
     "output_type": "display_data"
    }
   ],
   "source": [
    "fig = plt.figure(figsize = (9, 9))\n",
    "plt.plot(Zs, y2 )\n",
    "plt.xlabel('Z')\n",
    "plt.ylabel('< v >')\n",
    "plt.show()"
   ]
  },
  {
   "cell_type": "code",
   "execution_count": null,
   "metadata": {},
   "outputs": [],
   "source": []
  },
  {
   "cell_type": "code",
   "execution_count": null,
   "metadata": {},
   "outputs": [],
   "source": []
  },
  {
   "cell_type": "code",
   "execution_count": null,
   "metadata": {},
   "outputs": [],
   "source": []
  },
  {
   "cell_type": "code",
   "execution_count": null,
   "metadata": {},
   "outputs": [],
   "source": []
  },
  {
   "cell_type": "code",
   "execution_count": null,
   "metadata": {},
   "outputs": [],
   "source": []
  },
  {
   "cell_type": "code",
   "execution_count": null,
   "metadata": {},
   "outputs": [],
   "source": []
  },
  {
   "cell_type": "code",
   "execution_count": null,
   "metadata": {},
   "outputs": [],
   "source": []
  },
  {
   "cell_type": "code",
   "execution_count": null,
   "metadata": {},
   "outputs": [],
   "source": []
  },
  {
   "cell_type": "code",
   "execution_count": null,
   "metadata": {},
   "outputs": [],
   "source": []
  },
  {
   "cell_type": "code",
   "execution_count": null,
   "metadata": {},
   "outputs": [],
   "source": []
  }
 ],
 "metadata": {
  "kernelspec": {
   "display_name": "Python 3",
   "language": "python",
   "name": "python3"
  },
  "language_info": {
   "codemirror_mode": {
    "name": "ipython",
    "version": 3
   },
   "file_extension": ".py",
   "mimetype": "text/x-python",
   "name": "python",
   "nbconvert_exporter": "python",
   "pygments_lexer": "ipython3",
   "version": "3.7.3"
  }
 },
 "nbformat": 4,
 "nbformat_minor": 2
}
