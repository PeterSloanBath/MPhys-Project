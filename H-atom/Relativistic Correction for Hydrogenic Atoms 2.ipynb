{
 "cells": [
  {
<<<<<<< Updated upstream
=======
   "cell_type": "markdown",
   "metadata": {},
   "source": [
    "# X Relativistic Corrections\n",
    "\n",
    "## X.1 Introduction\n",
    "\n",
    "For a hydrogen atom, the gross structure of its spectral lines depends only on the principal quantum number $n$, the energies for which are given by the Bohr formula. This formula, however, fails to predict the fine structure that is observed in more precise measurements of the hydrogen spectrum; careful observations reveal that spectral lines are actually split into different components. The appearance of this fine structure is due to spin-orbit coupling and a relativistic correction. \n",
    "\n",
    "It is the relativistic correction to the (non-relativistic) Schrodinger equation that is discussed, and derived, in this section. In order to obtain the relativistic correction to the energy levels of hydrogen, we must use perturbation theory (or, more specifically, time-independent non-degenerate perturbation theory. In this approach, relativistic effects are treated as a small perturbation on an unperturbed state, which is the non-relativistic solution to the Schrodinger equation.\n",
    "\n",
    "## X.2 Derivation of the Relativistic Correction\n",
    "\n",
    "### X.2.1 Relativistic Correction to the Hamiltonian\n",
    "\n",
    "Previously, when solving the Schrodinger equation for the hydrogen atom, the Hamiltonian was taken to be \n",
    "\n",
    "$$ H = -\\frac{\\hbar^2}{2m}\\nabla^2 - \\frac{e^2}{4\\pi\\epsilon_0 r} , \\tag{1}$$\n",
    "\n",
    "with the first two terms corresponding to kinetic energy and Coulombic potential energy respectively. $[$Note: If you cannot see how the first term in the Hamiltonian relates to kinetic energy, remember that the quantum mechanical momentum operator is $ \\mathbf{p} = (\\hbar / i)\\ \\nabla^2 $, and substitute this into $(2)].$ \n",
    "\n",
    "Equation $(1)$, however, utilises the classical expression for kinetic energy \n",
    "\n",
    "$$ K_{c} = \\frac{1}{2} m v^2 = \\frac{p^2}{2m},  \\tag{2}$$\n",
    "\n",
    "as opposed to the relativistic formula, where the relativistic kinetic energy is given by\n",
    "\n",
    "$$ K_{rel} = \\frac{mv}{\\sqrt{1-(v/c)^2}} - mc^2. \\tag{3}$$\n",
    "\n",
    "$K_{rel}$ can be expressed in terms of the relativistic momentum, \n",
    "\n",
    "$$ p = \\frac{mv}{\\sqrt{1-(v/c)^2}} \\ , \\tag{3}$$\n",
    "\n",
    "instead of relativistic velocity as\n",
    "\n",
    "$$ K_{rel} = \\sqrt{p^2 c^2 + m^2 c^4} - mc^2 \\ .\\tag{4}$$\n",
    "\n",
    "Expanding this in powers of $p/mc$ gives\n",
    "\n",
    "$$ K_{rel} = \\frac{p^2}{2m} - \\frac{p^4}{8m^3 c^2} + ... \\ . \\tag{5}$$\n",
    "\n",
    "The leading term here is simply the non-relativistic kinetic energy, and so the lowest-order correction to the Hamiltonian due to relativistic effects is \n",
    "\n",
    "$$ H_{r}^{'} = -\\frac{p^4}{8m^3c^2} \\ , \\tag{6} $$\n",
    "\n",
    "where $p$ is now the relativistic momentum, rather than the classical momentum.\n",
    "\n",
    "### X.2.2 Using Perturbation Theory\n",
    "\n",
    "Recall that, in first-order perturbation theory, the correction to the n'th energy level $E_n$ is given by the expectation value of the perturbing Hamiltonian $H^{'}$ in the unperturbed state \n",
    "\n",
    "$$ E^{'}_{r} = \\ < H^{'}_{r} > \\ = \\ < \\psi | H^{'}_{r} | \\psi > \\ . \\tag{7}$$\n",
    "\n",
    "Substituting in the form of $H^{'}_{r}$ from $(6)$ gives\n",
    "\n",
    "$$ E^{'}_{r} = - \\frac{1}{8m^3c^2} < \\psi | p^4 | \\psi > \\ = - \\frac{1}{8m^3c^2} < p^2 \\psi | p^2 \\psi > . \\tag{8} $$\n",
    "\n",
    "A simple rearrangement of the Schrodinger equation yields $ p^2 \\psi = 2m(E-V)\\psi $ and hence $(8)$ becomes\n",
    "\n",
    "$$ E^{'}_{r} = -\\frac{1}{2mc^2} < (E-V)^2 > \\ = -\\frac{1}{2mc^2} \\ (E^2 - 2E<V> + <V^2>). \\tag{9}$$\n",
    "\n",
    "For the specific case of Hydrogen, we have $ V(r) = -e^2/4\\pi \\epsilon_0 r $ :\n",
    "\n",
    "$$ E^{1}_{r} = -\\frac{1}{2mc^2} \\biggl[ E^{2}_{n} +2 E^{2}_{n} \\biggl(\\frac{e^2}{4\\pi \\epsilon_0}\\biggr) \\biggl< \\frac{1}{r} \\biggr> + \\biggl(\\frac{e^2}{4\\pi \\epsilon_0}\\biggr)^2 \\biggl< \\frac{1}{r^2} \\biggr> \\biggr] \\tag{10}$$\n",
    "\n",
    "The expectation values of $ 1/r $ and $ 1/r^2 $ are\n",
    "\n",
    "$$ \\biggl< \\frac{1}{r} \\biggr> \\ = \\frac{1}{n^2a} \\ \\tag{11} $$ \n",
    "\n",
    "and\n",
    "\n",
    "$$ \\biggl< \\frac{1}{r^2} \\biggr> \\ = \\frac{1}{(l+1/2)n^3a^@} \\ ,\\tag{12} $$ \n",
    "\n",
    "where $ a = 4\\pi\\epsilon_0\\hbar^2 / me^2 $ is the Bohr radius. Making the substitutions from $(11)$ and $(12)$ (as well as for $a$), and expressing everything in terms of $E_n$ (as defined by the Bohr formula) yields the final form of the correction to the energy levels due to relativistic considerations:\n",
    "\n",
    "$$ E^{1}_{r} = -\\frac{(E_n)^2}{2mc^2}\\biggl[ \\frac{4n}{l + 1/2} - 3 \\biggr] \\ . \\tag{13} $$\n",
    "\n",
    "### X.2.3 The Effect of the Relativistic Correction\n",
    "\n",
    "Now that we have derived the relativistic correction to the hydrogen atom, we ought to explore the impact it has on the energy levels of hydrogen. \n",
    "\n",
    "**Something about the correction breaking the degeneracy in l? also justify why it was okay to use non-degenerate perturbation theory here instead of degenerate PT?**\n",
    "\n",
    "**Task X.1:** \n",
    "Write a function that takes $n$ and $l$ - the principal and orbital angular momentum quantum numbers - and returns the energy shift (in electron-Volts) of the hydrogen atom due to the relativistic correction. Compute this shift for the 1s ($ n = 1 $ and $ l = 0 $) state. By what factor is the relativistic correction smaller than $ E_n $?\n",
    " \n",
    "**Task X.2:**\n",
    "Alter your function so that the parameters $n$ and $l$ must obey the rules that constrain these quantum numbers, i.e. an error will be raised if values for $n$ and $l$ are used that break these rules. Test your function for different values of $n$ and $l$.\n"
   ]
  },
  {
>>>>>>> Stashed changes
   "cell_type": "code",
   "execution_count": 5,
   "metadata": {},
   "outputs": [],
   "source": [
    "import numpy as np\n",
    "import matplotlib.pyplot as plt"
   ]
  },
  {
   "cell_type": "code",
   "execution_count": 6,
   "metadata": {},
   "outputs": [],
   "source": [
    "m = 510998.946 # mass of an electron in eV/c^2\n",
    "c = 299792458 # speed of light in m/s"
   ]
  },
  {
   "cell_type": "code",
   "execution_count": 9,
   "metadata": {},
   "outputs": [],
   "source": [
    "def relativistic(Z : int, n : int, l : int):\n",
    "    \"\"\"\n",
    "    A function to determine the shift in energy of a hydrogenic atom with Z protons due to relativistic corrections\n",
    "    \n",
    "    Returns:\n",
    "        energy : float\n",
    "                 The energy shift in eV\n",
    "    \n",
    "    Parameters:\n",
    "    \"\"\"\n",
    "    \n",
    "    if not type(Z) == int:\n",
    "        raise TypeError('The parameter Z should be an integer')\n",
    "        \n",
    "    if not type(n) == int:\n",
    "        raise TypeError('The parameter n should be an integer')\n",
    "        \n",
    "    if not type(l) == int:\n",
    "        raise TypeError('The parameter l should be an integer')\n",
    "    \n",
    "    if l >= n:\n",
    "        raise Exception('The parameter l should be less than n')\n",
    "        \n",
    "    if l < 0: \n",
    "        raise Exception('The parameter l should be positive or equal to zero')\n",
    "    \n",
    "    energy = (( -(13.6 / n**2)**2) / (2 * m * c**2)) * ((1 - 4 * Z) + (4 * n * Z**2) / (l + 1/2))\n",
    "    \n",
    "    return energy\n",
    "    "
   ]
  },
  {
   "cell_type": "code",
<<<<<<< Updated upstream
   "execution_count": 10,
=======
   "execution_count": 6,
   "metadata": {},
   "outputs": [],
   "source": [
    "def bohr(Z : int, n : int):\n",
    "    \"\"\"\n",
    "    Determines the energy of the n'th level of a hydrogen-like ('single-electron') atom with Z protons.\n",
    "    \n",
    "    Returns:\n",
    "    \n",
    "    Paramters:\n",
    "    \n",
    "    \"\"\"\n",
    "    if not type(n) == int:\n",
    "        raise TypeError('The parameter n should be an integer')\n",
    "        \n",
    "    if n <= 0:\n",
    "        raise Exception('The parameter n should be a positive integer greater than zero')\n",
    "    \n",
    "    energy = -13.6 * (Z / n)**2\n",
    "    \n",
    "    return energy"
   ]
  },
  {
   "cell_type": "code",
   "execution_count": 7,
   "metadata": {},
   "outputs": [],
   "source": [
    "Z = np.linspace(1,100,100) # array filled with Z values \n",
    "\n",
    "# the fractional correction to the energy level of the 1s state\n",
    "def frac(Z, n, l):\n",
    "    frac = relativistic(Z,n,l) / abs(bohr(Z,n))\n",
    "    return frac\n",
    "\n",
    "# array filled with fractional corrections\n",
    "y = np.zeros(len(Z))\n",
    "for i in range(1,100):\n",
    "    y[i] = frac(i, 1, 0)"
   ]
  },
  {
   "cell_type": "code",
   "execution_count": 22,
>>>>>>> Stashed changes
   "metadata": {},
   "outputs": [
    {
     "data": {
      "image/png": "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\n",
      "text/plain": [
<<<<<<< Updated upstream
       "-1.006830620584476e-20"
      ]
     },
     "execution_count": 10,
     "metadata": {},
     "output_type": "execute_result"
=======
       "<Figure size 648x648 with 1 Axes>"
      ]
     },
     "metadata": {
      "needs_background": "light"
     },
     "output_type": "display_data"
    }
   ],
   "source": [
    "import matplotlib.pyplot as plt\n",
    "\n",
    "fig = plt.figure(figsize = (9, 9))\n",
    "plt.plot(Z, y )\n",
    "plt.xlabel('Z')\n",
    "plt.ylabel('Fractional Correction To Energy')\n",
    "plt.show()"
   ]
  },
  {
   "cell_type": "markdown",
   "metadata": {},
   "source": [
    "Your plot should show that the relativistic correction has a greater and greater effect as Z increases. Why? A greater number of protons in the nucleus will produce a stronger Coulomb interaction and, as can be seen from your previous plot of mean radius against Z, will cause to electron to orbit closer to the nucleus (or more accurately, be more likely to be found closer to the nucleus). This will lead to the average velocity of an electron to increase as Z increases, and thus relativistic effects will become more apparent. **does it make any sense to talk about the velocity of an electron, given the context of QM?**\n",
    "\n",
    "Let's check that this increase in velocity is indeed the case. The three-dimensional Virial theorem (for stationary states) says that\n",
    "\n",
    "$$ 2\\bigl< K \\bigr> = \\bigl< \\mathbf{r} \\cdot \\nabla V \\bigr> \\ .\\tag{15}$$\n",
    "\n",
    "For Hydrogenic atoms, it can be shown that the expectation value for the kinetic energy is  $ \\bigl< K \\bigr> = - E_{n, l} $. Rearranging the relativistic kinetic energy formula in $(3)$, we can therefore find the expected velocity of an electron in any state defined by the quantum numbes $n$ and $l$.\n"
   ]
  },
  {
   "cell_type": "code",
   "execution_count": 15,
   "metadata": {
    "scrolled": true
   },
   "outputs": [],
   "source": [
    "def vel(Z : int, n : int, l : int):\n",
    "    \"\"\"\n",
    "    Computes the expected velocity of an electron in the orbital defined by the quantum numbers n and l, \n",
    "    of a hydrogenic atom with Z protons, with relativistic effects taken into account.\n",
    "    \n",
    "    \"\"\"\n",
    "    c = 2.998 * 10**8\n",
    "    m = 9.11 * 10**(-31)\n",
    "    \n",
    "    K = -(relativistic(Z, n, l) + bohr(Z, n))\n",
    "    \n",
    "    v = c * np.sqrt( 1 - ((m*c**2) / (K*1.6*10**(-19) + m*c**2))**2)\n",
    "    \n",
    "    return v"
   ]
  },
  {
   "cell_type": "code",
   "execution_count": 16,
   "metadata": {},
   "outputs": [],
   "source": [
    "y2 = np.zeros(len(Z))\n",
    "for i in range(1,100):\n",
    "    y[i] = vel(i, 1, 0)"
   ]
  },
  {
   "cell_type": "code",
   "execution_count": 17,
   "metadata": {},
   "outputs": [
    {
     "data": {
      "image/png": "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\n",
      "text/plain": [
       "<Figure size 648x648 with 1 Axes>"
      ]
     },
     "metadata": {
      "needs_background": "light"
     },
     "output_type": "display_data"
>>>>>>> Stashed changes
    }
   ],
   "source": [
    "relativistic(1, 1, 0) # expect -1.00683 x 10^-20 from calculation by hand"
   ]
  },
  {
   "cell_type": "code",
   "execution_count": null,
   "metadata": {},
   "outputs": [],
   "source": []
  }
 ],
 "metadata": {
  "kernelspec": {
   "display_name": "Python 3",
   "language": "python",
   "name": "python3"
  },
  "language_info": {
   "codemirror_mode": {
    "name": "ipython",
    "version": 3
   },
   "file_extension": ".py",
   "mimetype": "text/x-python",
   "name": "python",
   "nbconvert_exporter": "python",
   "pygments_lexer": "ipython3",
   "version": "3.7.3"
  }
 },
 "nbformat": 4,
 "nbformat_minor": 2
}
