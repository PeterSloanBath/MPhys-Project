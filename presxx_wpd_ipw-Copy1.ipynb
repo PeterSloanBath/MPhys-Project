{
 "cells": [
  {
   "cell_type": "markdown",
   "metadata": {
    "slideshow": {
     "slide_type": "slide"
    }
   },
   "source": [
    "# Superposition and the Infinite Potential Well"
   ]
  },
  {
   "cell_type": "markdown",
   "metadata": {},
   "source": [
    "## Import Necessary Libraries"
   ]
  },
  {
   "cell_type": "code",
   "execution_count": null,
   "metadata": {
    "slideshow": {
     "slide_type": "slide"
    }
   },
   "outputs": [],
   "source": [
    "import numpy as np\n",
    "import matplotlib.pyplot as plt\n",
    "from matplotlib.animation import FuncAnimation"
   ]
  },
  {
   "cell_type": "markdown",
   "metadata": {},
   "source": [
    "## Define a Few Constants"
   ]
  },
  {
   "cell_type": "code",
   "execution_count": null,
   "metadata": {},
   "outputs": [],
   "source": [
    "# width of the well in a.u. (i.e. 1 bohr radius)\n",
    "L = 1 \n",
    "\n",
    "\n",
    "\n",
    "# Gaussian pulse\n",
    "sigma = L / 20 # standard deviation (defines the width of the gaussian curve)\n",
    "mu = L / 5 # expected position (defines the location of the centre of the gaussian)\n",
    "\n",
    "\n",
    "\n",
    "# length of array (number of times we sample each function)\n",
    "nmax = 300 \n",
    "\n",
    "# step in x values\n",
    "step = L / nmax "
   ]
  },
  {
   "cell_type": "markdown",
   "metadata": {},
   "source": [
    "## Gaussian Function"
   ]
  },
  {
   "cell_type": "code",
   "execution_count": null,
   "metadata": {},
   "outputs": [],
   "source": [
    "def gaussian(x, mu, sigma):\n",
    "    return (1 / (sigma * np.sqrt(2 * np.pi))) * np.exp(-0.5 * ((x - mu) / sigma)**2)\n",
    "\n",
    "# an empty array of length nmax\n",
    "g = np.empty(nmax) \n",
    "\n",
    "# filling array with values from our gaussian\n",
    "for x in np.arange(0, nmax): \n",
    "    g[x] = np.sqrt(gaussian(x * step, mu, sigma))"
   ]
  },
  {
   "cell_type": "markdown",
   "metadata": {},
   "source": [
    "## Eigenfunctions of potential well"
   ]
  },
  {
   "cell_type": "code",
   "execution_count": null,
   "metadata": {},
   "outputs": [],
   "source": [
    "def psi(n, x, L):\n",
    "    return np.sqrt(2 / L) * np.sin(np.pi * n * x / L)\n",
    "\n",
    "\n",
    "# an array of 4 eigenfunctions\n",
    "num = 4\n",
    "eigs = np.empty((num, nmax))\n",
    "\n",
    "for i in range(0, num): \n",
    "    for x in np.arange(0, nmax, 1):\n",
    "        eigs[i, x] = psi(i + 1, x * step, L) "
   ]
  },
  {
   "cell_type": "markdown",
   "metadata": {},
   "source": [
    "## Plotting the eigenfunctions"
   ]
  },
  {
   "cell_type": "code",
   "execution_count": null,
   "metadata": {},
   "outputs": [],
   "source": [
    "# plotting the n eigenfunctions\n",
    "xs = np.linspace(0, 1, nmax)\n",
    "\n",
    "for i in range(0, num):\n",
    "    plt.plot(xs, eigs[i])"
   ]
  },
  {
   "cell_type": "markdown",
   "metadata": {},
   "source": [
    "## Calculating our coefficients"
   ]
  },
  {
   "cell_type": "code",
   "execution_count": null,
   "metadata": {},
   "outputs": [],
   "source": [
    "# calculating the weighting of each eigenfunction\n",
    "cn = np.zeros(num)\n",
    "\n",
    "for i in range(0, num):\n",
    "    cn[i] = step * sum(g * eigs[i])\n",
    "    \n",
    "plt.plot(cn)"
   ]
  },
  {
   "cell_type": "markdown",
   "metadata": {},
   "source": [
    "# Comparison of superposition state and the gaussian"
   ]
  },
  {
   "cell_type": "code",
   "execution_count": null,
   "metadata": {},
   "outputs": [],
   "source": [
    "# superposition state\n",
    "psi_0 = 0\n",
    "for i in range(0, num):\n",
    "    psi_0 = psi_0 + cn[i] * eigs[i]\n",
    "\n",
    "\n",
    "plt.plot(xs, psi_0)\n",
    "plt.plot(xs, g)"
   ]
  },
  {
   "cell_type": "markdown",
   "metadata": {},
   "source": [
    "## The energy eigenvalues "
   ]
  },
  {
   "cell_type": "code",
   "execution_count": null,
   "metadata": {},
   "outputs": [],
   "source": [
    "energy = np.zeros(num)\n",
    "\n",
    "for i in range(0, num):\n",
    "    energy[i] = ((i + 1) * np.pi)**2 / (2 * L**2)"
   ]
  },
  {
   "cell_type": "markdown",
   "metadata": {},
   "source": [
    "## Animation"
   ]
  },
  {
   "cell_type": "code",
   "execution_count": null,
   "metadata": {},
   "outputs": [],
   "source": [
    "def animate(t):\n",
    "    \"\"\"\n",
    "    this function gets called by animation (imported from matplotlib)\n",
    "    each time called, it will replot with a different values for t\n",
    "    \n",
    "    Parameters:\n",
    "        t : float\n",
    "            used as a counter to display different frames of the animation \n",
    "    \n",
    "    \"\"\"\n",
    "    \n",
    "    #  defining how the wavefunction evolves with time, t\n",
    "    obj = 0\n",
    "    for i in range(0, num):\n",
    "        obj += cn[i] * eigs[i] * np.exp(-1j * energy[i] * t) \n",
    "    \n",
    "    # setting y data for the real, imaginary, total magnitude and probability distribution plots\n",
    "    _prob = obj.real**2 + obj.imag**2\n",
    "    \n",
    "    real.set_ydata(obj.real)\n",
    "    imag.set_ydata(obj.imag)\n",
    "    prob.set_ydata(_prob)\n",
    "    mag.set_ydata(np.sqrt(_prob))\n",
    "\n",
    "    # setting data for mean position\n",
    "    _mean = sum(_prob * xs) * step\n",
    "    \n",
    "    ax3.plot(_mean, t, 'k.', ms = 1)\n",
    "    mean.set_ydata(0)\n",
    "    mean.set_xdata(_mean)\n",
    "    \n",
    "    # dynamically set the y axis of 3rd plot\n",
    "    if t > 1.5:\n",
    "        ax3.set_ylim(t - 1.5, t + 0.5)"
   ]
  },
  {
   "cell_type": "code",
   "execution_count": null,
   "metadata": {},
   "outputs": [],
   "source": [
    "%matplotlib notebook\n",
    "\n",
    "fig, (ax1, ax2, ax3) = plt.subplots(3, figsize=(10, 12))\n",
    "\n",
    "# creating our line objects for the plots (initialise the plots)\n",
    "real, = ax1.plot(xs, eigs[1], '-r') \n",
    "imag, = ax1.plot(xs, eigs[1], '-b') \n",
    "mag, = ax1.plot(xs, eigs[1], '-k')\n",
    "prob, = ax2.plot(xs, eigs[1], '-g')\n",
    "mean, = ax2.plot(xs, eigs[1], 'ko')\n",
    "\n",
    "\n",
    "\n",
    "def init():\n",
    "    \"\"\"\n",
    "    initialize the figure object \n",
    "    \n",
    "    Returns:\n",
    "        wave_real : a line object that will form the first frame of the plot\n",
    "        \n",
    "        wave_imag : see above\n",
    "        \n",
    "        prob : see above\n",
    "        \n",
    "        wave_mag : see above\n",
    "    \n",
    "    \"\"\"\n",
    "    \n",
    "    ax1.set_xlim(0, 1)\n",
    "    ax1.set_ylim(-3, 3)\n",
    "    ax2.set_xlim(0, 1)\n",
    "    ax2.set_ylim(0, 10)\n",
    "    ax3.set_xlim(0, 1)\n",
    "    ax3.set_ylim(0, 2)\n",
    "    \n",
    "    return real, imag, mag, prob, mean\n",
    "\n",
    "# the FuncAnimation function iterates through our animate function using the steps array\n",
    "dt = 0.005 # stepsize of the widths \n",
    "ts = np.arange(0, 2000, dt)\n",
    "ani = FuncAnimation(fig, animate, ts, init_func=init, interval=25, blit=True) \n",
    "    # animation object, give it the figure object, the animate function, the input for the animate function,\n",
    "    # the intialising function, interval - amount of time between each frame, blitting reduces time\n",
    "\n",
    "plt.show()"
   ]
  },
  {
   "cell_type": "code",
   "execution_count": null,
   "metadata": {},
   "outputs": [],
   "source": []
  },
  {
   "cell_type": "code",
   "execution_count": null,
   "metadata": {},
   "outputs": [],
   "source": []
  },
  {
   "cell_type": "code",
   "execution_count": null,
   "metadata": {},
   "outputs": [],
   "source": []
  },
  {
   "cell_type": "code",
   "execution_count": null,
   "metadata": {},
   "outputs": [],
   "source": []
  }
 ],
 "metadata": {
  "celltoolbar": "Slideshow",
  "kernelspec": {
   "display_name": "Python 3",
   "language": "python",
   "name": "python3"
  },
  "language_info": {
   "codemirror_mode": {
    "name": "ipython",
    "version": 3
   },
   "file_extension": ".py",
   "mimetype": "text/x-python",
   "name": "python",
   "nbconvert_exporter": "python",
   "pygments_lexer": "ipython3",
   "version": "3.7.3"
  }
 },
 "nbformat": 4,
 "nbformat_minor": 2
}
