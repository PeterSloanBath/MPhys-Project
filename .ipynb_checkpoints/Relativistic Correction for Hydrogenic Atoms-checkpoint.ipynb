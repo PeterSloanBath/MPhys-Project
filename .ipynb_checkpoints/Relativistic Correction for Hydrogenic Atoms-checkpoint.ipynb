{
 "cells": [
  {
   "cell_type": "code",
   "execution_count": 5,
   "metadata": {},
   "outputs": [],
   "source": [
    "import numpy as np\n",
    "import matplotlib.pyplot as plt"
   ]
  },
  {
   "cell_type": "code",
   "execution_count": 6,
   "metadata": {},
   "outputs": [],
   "source": [
    "m = 510998.946 # mass of an electron in eV/c^2\n",
    "c = 299792458 # speed of light in m/s"
   ]
  },
  {
   "cell_type": "code",
   "execution_count": 9,
   "metadata": {},
   "outputs": [],
   "source": [
    "def relativistic(Z : int, n : int, l : int):\n",
    "    \"\"\"\n",
    "    A function to determine the shift in energy of a hydrogenic atom with Z protons due to relativistic corrections\n",
    "    \n",
    "    Returns:\n",
    "        energy : float\n",
    "                 The energy shift in eV\n",
    "    \n",
    "    Parameters:\n",
    "    \"\"\"\n",
    "    \n",
    "    if not type(Z) == int:\n",
    "        raise TypeError('The parameter Z should be an integer')\n",
    "        \n",
    "    if not type(n) == int:\n",
    "        raise TypeError('The parameter n should be an integer')\n",
    "        \n",
    "    if not type(l) == int:\n",
    "        raise TypeError('The parameter l should be an integer')\n",
    "    \n",
    "    if l >= n:\n",
    "        raise Exception('The parameter l should be less than n')\n",
    "        \n",
    "    if l < 0: \n",
    "        raise Exception('The parameter l should be positive or equal to zero')\n",
    "    \n",
    "    energy = (( -(13.6 / n**2)**2) / (2 * m * c**2)) * ((1 - 4 * Z) + (4 * n * Z**2) / (l + 1/2))\n",
    "    \n",
    "    return energy\n",
    "    "
   ]
  },
  {
   "cell_type": "code",
   "execution_count": 10,
   "metadata": {},
   "outputs": [
    {
     "data": {
      "text/plain": [
       "-1.006830620584476e-20"
      ]
     },
     "execution_count": 10,
     "metadata": {},
     "output_type": "execute_result"
    }
   ],
   "source": [
    "relativistic(1, 1, 0) # expect -1.00683 x 10^-20 from calculation by hand"
   ]
  },
  {
   "cell_type": "code",
   "execution_count": null,
   "metadata": {},
   "outputs": [],
   "source": []
  }
 ],
 "metadata": {
  "kernelspec": {
   "display_name": "Python 3",
   "language": "python",
   "name": "python3"
  },
  "language_info": {
   "codemirror_mode": {
    "name": "ipython",
    "version": 3
   },
   "file_extension": ".py",
   "mimetype": "text/x-python",
   "name": "python",
   "nbconvert_exporter": "python",
   "pygments_lexer": "ipython3",
   "version": "3.7.3"
  }
 },
 "nbformat": 4,
 "nbformat_minor": 2
}
