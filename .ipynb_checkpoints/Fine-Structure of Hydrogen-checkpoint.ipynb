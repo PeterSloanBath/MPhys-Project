{
 "cells": [
  {
   "cell_type": "markdown",
   "metadata": {},
   "source": [
    "# The Fine-Structure of Hydrogen\n",
    "\n",
    "### Relativistic Correction\n",
    "\n",
    "The lowest order relativistic correction to the Hamiltonian is $$ H^{'}_{r} = - \\frac{p^4}{8m^3c^2} $$\n",
    "\n",
    "Using non-degenerate time independent perturbation theory, it can be shown that the first order correction to the energy of the system $ E_n $ is given by\n",
    "\n",
    "$$ E^{1}_{r} = - \\frac{E^{2}_{n}}{2mc^2}\\biggl[\\frac{4n}{l + 1/2} - 3\\biggr] $$ \n",
    "\n",
    "### Spin-Orbit Correction\n",
    "\n",
    "For the spin-orbit interaction, the Hamiltonian is \n",
    "$$ H^{'}_{SO} = \\biggl(\\frac{e^2}{8\\pi\\epsilon_0}\\biggr) \\frac{1}{m^2c^2r^3} \\mathbf{S{\\cdot}L} ,$$\n",
    "\n",
    "where $ \\mathbf{L} $ and $ \\mathbf{S} $ are the angular ('orbital') and spin quantum numbers respectively. \n",
    "\n",
    "Once again taking advantage of first-order non-degenerate perturbation theory, it can be shown that the firts order correction to the energy of the system is \n",
    "\n",
    "$$ E^{1}_{SO} = \\frac{(E_n)^2}{mc^2} \\biggl\\{ \\frac{n[j(j+1)-l(l+1)-3/4]}{l(l+1/2)(l+1)} \\biggr\\}  .$$\n",
    "\n",
    "### The Fine-Structure Correction p275\n",
    "\n",
    "The SO correction and the relativistic correction are of the same order $ (E^{2}_{n} / mc^2) $. Summing them gives the complete fine-structure formula\n",
    "\n",
    "$$ E^{1}_{fs} = \\frac{(E_n)^2}{mc^2} \\biggl( 3 - \\frac{4n}{j+1/2} \\biggr) .$$\n",
    "\n",
    "Combining this result with the Bohr formula yields\n",
    "\n",
    "$$ E_{nj} = - \\frac{13.6 eV}{n^2} \\biggl[ 1 + \\frac{\\alpha^2}{n^2} \\biggl( \\frac{n}{j+1/2} - \\frac{3}{4} \\biggr) \\biggr] . $$\n",
    "\n",
    "\n",
    "\n",
    "\n",
    "\n",
    "\n",
    "\n"
   ]
  },
  {
   "cell_type": "code",
   "execution_count": 18,
   "metadata": {},
   "outputs": [],
   "source": [
    "import numpy as np\n",
    "import matplotlib.pyplot as plt\n",
    "\n",
    "alpha = 0.0072973525693 # the fine-structure constant, dimensionless"
   ]
  },
  {
   "cell_type": "code",
   "execution_count": 19,
   "metadata": {},
   "outputs": [],
   "source": [
    "def bohr(n : int):\n",
    "    \"\"\"\n",
    "    Function to return the energy levels in a Hydrogen atom according to the Bohr formula \n",
    "    in units of electron-Volts (eV)\n",
    "    \n",
    "    Returns:\n",
    "        energy : float\n",
    "                 The energy in eV of the n'th energy level\n",
    "        \n",
    "    Parameters:\n",
    "        n : integer\n",
    "            This represents the principal quantum number of the system and is used in determining\n",
    "            the energy. If n is not an integer, an error will be raised.\n",
    "        \n",
    "    \"\"\"\n",
    "    if not type(n) == int:\n",
    "        raise TypeError('The parameter n should be an integer')\n",
    "        \n",
    "    energy = -13.6 / n**2\n",
    "    return energy\n",
    "             "
   ]
  },
  {
   "cell_type": "code",
   "execution_count": 47,
   "metadata": {},
   "outputs": [],
   "source": [
    "def fineStructure(n : int, l : int, j : float):\n",
    "    \"\"\"\n",
    "    Function to return the energy levels (in eV) in a Hydrogen atom accounting for the spin-orbit\n",
    "    interaction and as well as relativistic corrections.\n",
    "    \n",
    "    Returns:\n",
    "    \n",
    "    Parameters:\n",
    "    \n",
    "    \"\"\"\n",
    "\n",
    "    if not type(n) == int:\n",
    "        raise TypeError('The parameter n should be an integer')\n",
    "        \n",
    "    if not type(l) == int:\n",
    "        raise TypeError('The parameter l should be an integer')\n",
    "    \n",
    "    if l >= n:\n",
    "        raise Exception('The parameter l should be less than n')\n",
    "        \n",
    "    if l < 0: \n",
    "        raise Exception('The parameter l should be positive or equal to zero')\n",
    "    \n",
    "    if j != l + 0.5:\n",
    "        if l == 0:\n",
    "            raise Exception('The parameter j should be equal to l + 1/2 when l equals zero')\n",
    "        elif j != l - 0.5:\n",
    "            raise Exception('The parameter j should be equal to l +/- 1/2')\n",
    "    \n",
    "    energy = (-13.6 / n**2 ) * ( 1 + (alpha**2 / n**2) * ( n / (j + 1/2) - 3/4) ) \n",
    "    \n",
    "    return energy"
   ]
  },
  {
   "cell_type": "code",
   "execution_count": 50,
   "metadata": {},
   "outputs": [
    {
     "data": {
      "text/plain": [
       "-0.00018105460537043427"
      ]
     },
     "execution_count": 50,
     "metadata": {},
     "output_type": "execute_result"
    }
   ],
   "source": []
  },
  {
   "cell_type": "code",
   "execution_count": null,
   "metadata": {},
   "outputs": [],
   "source": []
  },
  {
   "cell_type": "code",
   "execution_count": null,
   "metadata": {},
   "outputs": [],
   "source": []
  },
  {
   "cell_type": "code",
   "execution_count": null,
   "metadata": {},
   "outputs": [],
   "source": []
  }
 ],
 "metadata": {
  "kernelspec": {
   "display_name": "Python 3",
   "language": "python",
   "name": "python3"
  },
  "language_info": {
   "codemirror_mode": {
    "name": "ipython",
    "version": 3
   },
   "file_extension": ".py",
   "mimetype": "text/x-python",
   "name": "python",
   "nbconvert_exporter": "python",
   "pygments_lexer": "ipython3",
   "version": "3.7.3"
  }
 },
 "nbformat": 4,
 "nbformat_minor": 2
}
