{
 "cells": [
  {
   "cell_type": "code",
   "execution_count": 1,
   "metadata": {},
   "outputs": [],
   "source": [
    "#Using the time-independent Schrödinger equation to find the eigenfunctions (wavefunctions) and energy levels of a \n",
    "#particle in an infinite potential well. \n",
    "\n",
    "#Firstly, import various libraries, which will later be used\n",
    "import numpy as np\n",
    "import matplotlib.pyplot as plt"
   ]
  },
  {
   "cell_type": "code",
   "execution_count": 133,
   "metadata": {},
   "outputs": [],
   "source": [
    "a0 = 52.92 * 10**(-12)\n",
    "A = 1 / np.sqrt(np.pi * (a0**3))\n",
    "\n",
    "L = 15*a0"
   ]
  },
  {
   "cell_type": "code",
   "execution_count": 135,
   "metadata": {},
   "outputs": [],
   "source": [
    "def solution(n, l, m_l, r):\n",
    "    \"\"\"\n",
    "    Function to define the wavefunction for the electron in a hydrogen atom at a given point in space and \n",
    "    for a specific quantum state\n",
    "    \n",
    "    Returns:\n",
    "        psi : float\n",
    "              the value of the wavefunction\n",
    "              \n",
    "    Parameters:\n",
    "        n : integer\n",
    "            principal quantum number\n",
    "        \n",
    "        l : integer\n",
    "            angular quantum number\n",
    "            \n",
    "        m_l : integer\n",
    "              magnetic quantum number\n",
    "        \n",
    "        r : float\n",
    "            radial distance\n",
    "    \"\"\"\n",
    "    \n",
    "    #series of 'if' statements to establish the quantum state and the corresponding wavefunction\n",
    "    \n",
    "    if n == 1:\n",
    "        if l == 0 and m_l == 0:\n",
    "            psi = A * np.exp(-r / a0)\n",
    "            return psi\n",
    "        \n",
    "        else:\n",
    "            print(\"The quantum state with n =\", n, \", l =\", l, \"and m_l =\", m_l, \"does not exist.\")\n",
    "            \n",
    "    if n == 2:\n",
    "        if l == 0 and m_l == 0:\n",
    "            psi = (1/4) * A * (2 - (r / a0)) * np.exp(-r / (2 * a0))\n",
    "            return psi"
   ]
  },
  {
   "cell_type": "code",
   "execution_count": 146,
   "metadata": {},
   "outputs": [],
   "source": [
    "def wavefunction(n, l, m_l):\n",
    "    \"\"\"\n",
    "    Function to define the wavefunction function for the electron in a hydrogen atom at a given point in space and \n",
    "    for a specific quantum state\n",
    "    \n",
    "    Returns:\n",
    "        psi : array\n",
    "              the wavefunction function\n",
    "              \n",
    "    Parameters:\n",
    "        n : integer\n",
    "            principal quantum number\n",
    "        \n",
    "        l : integer\n",
    "            angular quantum number\n",
    "            \n",
    "        m_l : integer\n",
    "              magnetic quantum number\n",
    "    \"\"\"\n",
    "    if (n == 1 and l == 0 and m_l == 0) or (n == 2 and l == 0 and m_l == 0):\n",
    "        psi = [] #create an empty array in which to store wavefunction values\n",
    "    \n",
    "        for r in np.arange(0, L, L / 1000):\n",
    "            psi = np.append(psi, solution(n, l, m_l, r))\n",
    "        \n",
    "        return psi\n",
    "    \n",
    "    elif l == 1 and (m_l == -1 or m_l == 0 or m_l == 1):\n",
    "        print(\"The quantum state with n =\", n, \", l =\", l, \"and m_l =\", m_l, \"requires an angular component.\")"
   ]
  },
  {
   "cell_type": "code",
   "execution_count": 148,
   "metadata": {},
   "outputs": [
    {
     "data": {
      "image/png": "[encoded data removed]",
      "text/plain": [
       "<Figure size 576x648 with 1 Axes>"
      ]
     },
     "metadata": {
      "needs_background": "light"
     },
     "output_type": "display_data"
    }
   ],
   "source": [
    "n = 1; l = 0; m_l = 0 #set the quantum numbers\n",
    "\n",
    "r_pos = np.linspace(0, L, 1000) #array filled with radial position values\n",
    "\n",
    "#set the size of the figures\n",
    "fig = plt.figure(figsize = (8, 9))\n",
    "\n",
    "plt.plot(r_pos, wavefunction(n, l, m_l))\n",
    "plt.xlabel('Position')\n",
    "plt.ylabel('Wavefunction')\n",
    "plt.title(\"Electron wavefunction for n = %i, l = %i and m_l = %i\" % (n, l, m_l))\n",
    "plt.show()"
   ]
  },
  {
   "cell_type": "code",
   "execution_count": null,
   "metadata": {},
   "outputs": [],
   "source": []
  }
 ],
 "metadata": {
  "kernelspec": {
   "display_name": "Python 3",
   "language": "python",
   "name": "python3"
  },
  "language_info": {
   "codemirror_mode": {
    "name": "ipython",
    "version": 3
   },
   "file_extension": ".py",
   "mimetype": "text/x-python",
   "name": "python",
   "nbconvert_exporter": "python",
   "pygments_lexer": "ipython3",
   "version": "3.7.3"
  }
 },
 "nbformat": 4,
 "nbformat_minor": 2
}
