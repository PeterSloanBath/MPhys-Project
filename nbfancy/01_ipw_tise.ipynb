{
 "cells": [
  {
   "cell_type": "markdown",
   "metadata": {
    "slideshow": {
     "slide_type": "slide"
    }
   },
   "source": [
    "# The Infinite Well in 1D"
   ]
  },
  {
   "cell_type": "markdown",
   "metadata": {
    "slideshow": {
     "slide_type": "subslide"
    }
   },
   "source": [
    "## Overview:\n",
    "- **Teaching:** 20 min\n",
    "- **Exercises:** 5 min\n",
    "\n",
    "**Questions**\n",
    "- What is the infinite potential well?\n",
    "- What are the solutions to the infinite potential well in the time-independent case?\n",
    "- How can I write and visualise these solutions to the infinite potential well in code?\n",
    "\n",
    "**Objectives**\n",
    "- Review the infinite potential well and its time-independent solutions.\n",
    "- Undertsand that we can use our existing knowledge of Python to solve and visualise solutions to the infinite well.\n"
   ]
  },
  {
   "cell_type": "markdown",
   "metadata": {
    "slideshow": {
     "slide_type": "slide"
    }
   },
   "source": [
    "## Information: Import necessary libraries\n",
    "\n",
    "Python has a vast ecosystem of libraries that we can use to reduce and simplify the amount of code we need to write to solve problems in quantum mechanics.\n",
    "\n",
    "We will make use of `numpy` the standard library for numerical Python and additional libraries including `matplotlib` for plotting. "
   ]
  },
  {
   "cell_type": "code",
   "execution_count": 1,
   "metadata": {
    "slideshow": {
     "slide_type": "slide"
    }
   },
   "outputs": [],
   "source": [
    "import numpy as np\n",
    "import matplotlib.pyplot as plt"
   ]
  },
  {
   "cell_type": "markdown",
   "metadata": {
    "slideshow": {
     "slide_type": "slide"
    }
   },
   "source": [
    "## The Time-Independent Solutions\n",
    "\n",
    "As you may recall from lectures, the infinite potential well describes a one-dimensional system whose potential, $V(x)$, is zero inside the well and infinite outside. If we define the bounds of the well to be between $ x = 0 $ and $ x = L $, then\n",
    "\n",
    "$$\n",
    "V(x) = \\begin{cases} \n",
    "            0, &\\text{if} \\ 0 < x < L, \\\\ \n",
    "            \\infty, &\\text{otherwise.} \n",
    "       \\end{cases}         \n",
    "\\tag{1} \n",
    "$$\n",
    "\n",
    "Inside the well, a particle moves freely. The infinite potential at the edges of the well, however, keeps the particle's position constrained in the region $ 0 < x < L $. Whilst this potential is somewhat artificial (nature does not produce potentials that abrutly go to infinity), it is still a useful system to examine within the framework of quantum mechanics because: \n",
    "\n",
    "- it is the simplest system for which we can obtain solutions to the Schrödinger equation,\n",
    "- the solutions demonstrate key quantum mechanical concepts,\n",
    "- the infinite well is a useful approximation for particles tightly confined in one-dimension.\n",
    "\n",
    "![infinite well picture](../images/infinite_well.jpg)\n",
    "\n",
    "The solutions (wavefunctions, $\\Psi(x,t)$) of the system are found by solving the time-dependent Schrödinger equation (TDSE),\n",
    "\n",
    "$$\n",
    "\\frac{-\\hbar^2}{2m}\\frac{\\partial^2{\\Psi(x,t)}}{\\partial{x^2}} + V(x,t)\\Psi(x,t) = i\\hbar\\frac{\\partial{\\Psi(x,t)}}{\\partial{t}} \\ ,\n",
    "\\tag{2}\n",
    "$$\n",
    "\n",
    "where $m$ is the mass the particle confined to the well, and $x$ and $t$ are the position and time coordinates respectively. For the case of the infinite well, the potential, $V(x)$, is constant in time. This means that we we can use a separation of variables ($\\Psi(x,t) = \\psi(x)\\phi(t)$) to simplify the TDSE into its time-independent form\n",
    "\n",
    "$$\n",
    "\\frac{-\\hbar^2}{2m}\\frac{d\\psi(x)}{dx^2} + V(x)\\psi(x) = E\\psi(x) \\ .\n",
    "\\tag{3}\n",
    "$$\n",
    "\n",
    "This time-independent form of the Schrödinger equation (TISE) is much more easily solved analytically. The solutions to the TISE for an infinite well are\n",
    "\n",
    "$$ \n",
    "\\psi_n(x) = \\sqrt{\\frac{2}{L}} \\sin\\biggl(\\frac{n \\pi}{L}x \\biggr)\\ .\n",
    "\\tag{4}\n",
    "$$\n",
    "\n",
    "Note how these solutions are restricted to certain values by the positive integer $n$, which is radically different to the classical case. These solutions are known as the eigenfunctions of the system, and each solution has an associated eigenvalue - the energy of that quantum state. For the infinite potential well, these energy eigenvalues are given by\n",
    "\n",
    "$$ \n",
    "E_n = \\frac{n^2\\pi^2\\hbar^2}{2mL^2} \\ . \n",
    "\\tag{5}\n",
    "$$\n",
    "\n",
    "Again, note how the energy of the system is split into distinct energy levels; we say that the energy has been quantised.\n",
    "\n",
    "\n",
    "## Visualising the Solutions\n",
    "\n",
    "Let's visualise eigenfunctions wavefunctions given in $(4)$. Open up your Jupyter notebook and import the standard libraries used in Python for basic mathematics and plotting (see the \"info\" section above). We are going to need to define the width of the potential well, $L$, in our code. We shall define $L$ globally, which means that all functions within our code will 'know' what the value of $L$ is without us having to give it to them directly. Set $L$ to one angstrom ($10^{-10} \\ \\text{m}$) in length:"
   ]
  },
  {
   "cell_type": "code",
   "execution_count": 2,
   "metadata": {
    "slideshow": {
     "slide_type": "slide"
    }
   },
   "outputs": [],
   "source": [
    " L = 10**(-10)"
   ]
  },
  {
   "cell_type": "markdown",
   "metadata": {
    "slideshow": {
     "slide_type": "slide"
    }
   },
   "source": [
    "We're now going to write a function that, when called, returns the value of the $n$'th wavefunction at a given position $x$. This function, therefore, is going to take two parameters, $n$ and $x$, and return a floating point number:"
   ]
  },
  {
   "cell_type": "code",
   "execution_count": 3,
   "metadata": {
    "slideshow": {
     "slide_type": "slide"
    }
   },
   "outputs": [],
   "source": [
    "def psi(n, x):\n",
    "    \"\"\"\n",
    "    Computes the value of the n'th wavefunction at a position x, using the analytic solution \n",
    "    to the Schrodinger equation for an infinite potential well.\n",
    "    \n",
    "    Returns:\n",
    "        float\n",
    "            The value of the wavefunction at x\n",
    "        \n",
    "    Parameters:\n",
    "        x : float\n",
    "            The x coordinate of the system\n",
    "        \n",
    "        n : integer\n",
    "            Describes which state the wavefunction is in\n",
    "    \"\"\"\n",
    "    \n",
    "    return np.sqrt(2 / L) * np.sin(n * np.pi * x / L)"
   ]
  },
  {
   "cell_type": "markdown",
   "metadata": {
    "slideshow": {
     "slide_type": "slide"
    }
   },
   "source": [
    "## Information : Tip\n",
    "##### Docstrings\n",
    "As you can see, I have included a documentation string ('docstring') in this function definition - it's the text in red. Simply put, a docstring is a description of what a function, class or module does. Writing docstrings is an important programming practice, as it helps other programmers understand what your code does, and how it does it. Docstrings must be written on the first line of a function declaration and must are declared with three double quotation marks (\"\"\"). If you've ever used the `help()` function in Python, you've simply been printing to screen the docstring that a previous programmer has written. Try it now by calling the `help()` function and passing our functing `psi` to it as an argument."
   ]
  },
  {
   "cell_type": "markdown",
   "metadata": {
    "slideshow": {
     "slide_type": "slide"
    }
   },
   "source": [
    "In order to plot our eigenfunctions, we need an array containing the y-data of each eigenfunction. In Python, however, no native array structure exists and so we are going to have to use the array structure from the numpy library that we imported at the beginning of the lesson. As we are completely filling out array with values from our eigenfunctions, lets just initialise an array using `np.empty()`. \n",
    "\n",
    "Let's write a function that will output an array filled with the y-data of the n'th eigenfunction, sampling each function a certain number of times."
   ]
  },
  {
   "cell_type": "code",
   "execution_count": 4,
   "metadata": {},
   "outputs": [],
   "source": [
    "def eigenfunction(n, length):\n",
    "    \"\"\"\n",
    "    Fill an array with the y-values of the n'th eigenfunction in an infinite potential well\n",
    "    \n",
    "    Returns: \n",
    "        wav : array\n",
    "            An array containing the y-avlues\n",
    "        \n",
    "    Parameters:\n",
    "        l : integer\n",
    "            determines the length of the outputted array (array is 4 times this length)\n",
    "            \n",
    "        n : integer\n",
    "            describes the state of the wavefunction\n",
    "    \"\"\"\n",
    "    \n",
    "    length = int(length) # making sure that length is an integer\n",
    "    \n",
    "    wav = np.empty(length) # creating an empty array \n",
    "    \n",
    "    for x in np.arange(0, length):\n",
    "        wav[x] = psi(n, x * (L / length)) \n",
    "        \n",
    "    return wav"
   ]
  },
  {
   "cell_type": "markdown",
   "metadata": {
    "slideshow": {
     "slide_type": "slide"
    }
   },
   "source": [
    "Let's plot the first 3 eigenfunctions over the interval $0 < x < L$, sampling each eigenfunction 1000 times. "
   ]
  },
  {
   "cell_type": "code",
   "execution_count": 5,
   "metadata": {
    "slideshow": {
     "slide_type": "slide"
    }
   },
   "outputs": [
    {
     "data": {
      "image/png": "[encoded data removed]",
      "text/plain": [
       "<Figure size 720x360 with 1 Axes>"
      ]
     },
     "metadata": {
      "needs_background": "light"
     },
     "output_type": "display_data"
    }
   ],
   "source": [
    "length = 1000 # number of samples of each eigenfunction\n",
    "xvals = np.linspace(0, 1, length) # an array of x values from 0 to 1, in 0.001 increments\n",
    "\n",
    "# arrays of y-data for each eigenfunctions\n",
    "eig1 = eigenfunction(1, length) \n",
    "eig2 = eigenfunction(2, length)\n",
    "eig3 = eigenfunction(3, length)\n",
    "\n",
    "# some basic plotting magic to make the plots look better\n",
    "fig = plt.figure(figsize = (10, 5));\n",
    "ax = fig.add_subplot(111)\n",
    "plt.rcParams.update({'font.size': 20})\n",
    "plt.rc('text', usetex=True) \n",
    "ax.set_xlabel(r'$x \\ [\\AA ]$')\n",
    "ax.set_ylabel(r'$\\psi(x)$')\n",
    "\n",
    "# producing our plots\n",
    "ax.plot(xvals, eig1, label = 'n = 1')\n",
    "ax.plot(xvals, eig2, label = 'n = 2')\n",
    "ax.plot(xvals, eig3, label = 'n = 3')\n",
    "ax.legend(loc = 'best');"
   ]
  },
  {
   "cell_type": "markdown",
   "metadata": {
    "slideshow": {
     "slide_type": "slide"
    }
   },
   "source": [
    "We have plotted here the first 3 time-independent eigenfunctions of the infinite well. There are, however, an infinite number of solutions, since $n$ can be any positive integer. These eigenfunctions all display symmtery about the centre of the well, with odd-n eigenfunctions displaying even symmtery, and even-n eigenfunctions displaying odd symmtery. This symmtery is known as parity."
   ]
  },
  {
   "cell_type": "markdown",
   "metadata": {
    "slideshow": {
     "slide_type": "slide"
    }
   },
   "source": [
    "## Exercise: Parity\n",
    "\n",
    "By plotting for higher values of n, check that the symmetry property of the eigenfunctions about the centre of the well does not change."
   ]
  },
  {
   "cell_type": "markdown",
   "metadata": {
    "slideshow": {
     "slide_type": "slide"
    }
   },
   "source": [
    "## Key Points:\n",
    "- The analytic solutions to the time-independent Schrödinger equation for the infinite potential are quantised, and are known as eigenfunctions.\n",
    "- We can plot these visualise these solutions easily using Python, and explore their symmetry properties."
   ]
  }
 ],
 "metadata": {
  "celltoolbar": "Slideshow",
  "kernelspec": {
   "display_name": "Python 3",
   "language": "python",
   "name": "python3"
  },
  "language_info": {
   "codemirror_mode": {
    "name": "ipython",
    "version": 3
   },
   "file_extension": ".py",
   "mimetype": "text/x-python",
   "name": "python",
   "nbconvert_exporter": "python",
   "pygments_lexer": "ipython3",
   "version": "3.7.3"
  }
 },
 "nbformat": 4,
 "nbformat_minor": 2
}
