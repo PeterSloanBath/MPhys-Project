{
 "cells": [
  {
   "cell_type": "markdown",
   "metadata": {
    "slideshow": {
     "slide_type": "slide"
    }
   },
   "source": [
    "<div class=\"w3-bar w3-blue-grey w3-padding\">\n",
    "    <h2 class=\"w3-bar-item w3-padding-32\"><!-- Text Here --></h2>\n",
    "    <img class=\"w3-bar-item w3-right\" src=\"data:image/png;base64,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\">\n",
    "</div>"
   ]
  },
  {
   "cell_type": "markdown",
   "metadata": {
    "slideshow": {
     "slide_type": "slide"
    }
   },
   "source": [
    "# The Infinite Well in 1D"
   ]
  },
  {
   "cell_type": "markdown",
   "metadata": {
    "slideshow": {
     "slide_type": "subslide"
    }
   },
   "source": [
    "<div class=\"w3-panel w3-leftbar w3-border-green w3-pale-green w3-padding-small\">\n",
    "    <h3 id=\"-Overview%3A%0A\"><i class=\"fa fa-file-o\"></i> Overview:\n",
    "</h3>\n",
    "    <ul>\n",
    "<li><strong>Teaching:</strong> 20 min</li>\n",
    "<li><strong>Exercises:</strong> 5 min</li>\n",
    "</ul>\n",
    "<p><strong>Questions</strong></p>\n",
    "<ul>\n",
    "<li>What is the infinite potential well?</li>\n",
    "<li>What are the solutions to the infinite potential well in the time-independent case?</li>\n",
    "<li>How can I write and visualise these solutions to the infinite potential well in code?</li>\n",
    "</ul>\n",
    "<p><strong>Objectives</strong></p>\n",
    "<ul>\n",
    "<li>Review the infinite potential well and its time-independent solutions.</li>\n",
    "<li>Understand that we can use our existing knowledge of Python to solve and visualise solutions to the infinite well.</li>\n",
    "</ul>\n",
    "</div>"
   ]
  },
  {
   "cell_type": "markdown",
   "metadata": {
    "slideshow": {
     "slide_type": "slide"
    }
   },
   "source": [
    "<div class=\"w3-panel w3-leftbar w3-border-blue w3-pale-blue w3-padding-small\">\n",
    "    <h3 id=\"-Import-necessary-libraries%0A\"><i class=\"fa fa-info-circle\"></i> Import necessary libraries\n",
    "</h3>\n",
    "    <p>Python has a vast ecosystem of libraries that we can use to reduce and simplify the amount of code we need to write to solve problems in quantum mechanics.</p>\n",
    "<p>We will make use of <code>numpy</code> the standard library for numerical Python and additional libraries including <code>matplotlib</code> for plotting.</p>\n",
    "</div>"
   ]
  },
  {
   "cell_type": "code",
   "execution_count": 1,
   "metadata": {
    "slideshow": {
     "slide_type": "slide"
    }
   },
   "outputs": [],
   "source": [
    "import numpy as np\n",
    "import matplotlib.pyplot as plt"
   ]
  },
  {
   "cell_type": "markdown",
   "metadata": {
    "slideshow": {
     "slide_type": "slide"
    }
   },
   "source": [
    "## The Time-Independent Solutions\n",
    "\n",
    "As you may recall from lectures, the infinite potential well describes a one-dimensional system whose potential, $V(x)$, is zero inside the well and infinite outside. If we define the bounds of the well to be between $ x = 0 $ and $ x = L $, then\n",
    "\n",
    "$$\n",
    "V(x) = \\begin{cases} \n",
    "            0, &\\text{if} \\ 0 < x < L, \\\\ \n",
    "            \\infty, &\\text{otherwise.} \n",
    "       \\end{cases}         \n",
    "\\tag{1} \n",
    "$$\n",
    "\n",
    "Inside the well, a particle moves freely. The infinite potential at the edges of the well, however, keeps the particle's position constrained in the region $ 0 < x < L $. Whilst this potential is somewhat artificial (nature does not produce potentials that abrutly go to infinity), it is still a useful system to examine within the framework of quantum mechanics because: \n",
    "\n",
    "- it is the simplest system for which we can obtain solutions to the Schrödinger equation,\n",
    "- the solutions demonstrate key quantum mechanical concepts,\n",
    "- the infinite well is a useful approximation for particles tightly confined in one-dimension.\n",
    "\n",
    "![infinite well picture](../images/infinite_well.jpg)\n",
    "\n",
    "The solutions (wavefunctions, $\\Psi(x,t)$) of the system are found by solving the time-dependent Schrödinger equation (TDSE),\n",
    "\n",
    "$$\n",
    "\\frac{-\\hbar^2}{2m}\\frac{\\partial^2{\\Psi(x,t)}}{\\partial{x^2}} + V(x,t)\\Psi(x,t) = i\\hbar\\frac{\\partial{\\Psi(x,t)}}{\\partial{t}} \\ ,\n",
    "\\tag{2}\n",
    "$$\n",
    "\n",
    "where $m$ is the mass the particle confined to the well, and $x$ and $t$ are the position and time coordinates respectively. For the case of the infinite well, the potential, $V(x)$, is constant in time. This means that we we can use a separation of variables ($\\Psi(x,t) = \\psi(x)\\phi(t)$) to simplify the TDSE into its time-independent form\n",
    "\n",
    "$$\n",
    "\\frac{-\\hbar^2}{2m}\\frac{d\\psi(x)}{dx^2} + V(x)\\psi(x) = E\\psi(x) \\ .\n",
    "\\tag{3}\n",
    "$$\n",
    "\n",
    "This time-independent form of the Schrödinger equation (TISE) is much more easily solved analytically. The solutions to the TISE for an infinite well are\n",
    "\n",
    "$$ \n",
    "\\psi_n(x) = \\sqrt{\\frac{2}{L}} \\sin\\biggl(\\frac{n \\pi}{L}x \\biggr)\\ .\n",
    "\\tag{4}\n",
    "$$\n",
    "\n",
    "Note how these solutions are restricted to certain values by the positive integer $n$, which is radically different to the classical case. These solutions are known as the eigenfunctions of the system, and each solution has an associated eigenvalue - the energy of that quantum state. For the infinite potential well, these energy eigenvalues are given by\n",
    "\n",
    "$$ \n",
    "E_n = \\frac{n^2\\pi^2\\hbar^2}{2mL^2} \\ . \n",
    "\\tag{5}\n",
    "$$\n",
    "\n",
    "Again, note how the energy of the system is split into distinct energy levels; we say that the energy has been quantised.\n",
    "\n",
    "\n",
    "## Visualising the Solutions\n",
    "\n",
    "Let's visualise eigenfunctions wavefunctions given in $(4)$. Open up your Jupyter notebook and import the standard libraries used in Python for basic mathematics and plotting (see the \"info\" section above). We are going to need to define the width of the potential well, $L$, in our code. We shall define $L$ globally, which means that all functions within our code will 'know' what the value of $L$ is without us having to give it to them directly. Set $L$ to one angstrom ($10^{-10} \\ \\text{m}$) in length:"
   ]
  },
  {
   "cell_type": "code",
   "execution_count": 2,
   "metadata": {
    "slideshow": {
     "slide_type": "slide"
    }
   },
   "outputs": [],
   "source": [
    " L = 10**(-10)"
   ]
  },
  {
   "cell_type": "markdown",
   "metadata": {
    "slideshow": {
     "slide_type": "slide"
    }
   },
   "source": [
    "We're now going to write a function that, when called, returns the value of the $n$'th wavefunction at a given position $x$. This function, therefore, is going to take two parameters, $n$ and $x$, and return a floating point number:"
   ]
  },
  {
   "cell_type": "code",
   "execution_count": 3,
   "metadata": {
    "slideshow": {
     "slide_type": "slide"
    }
   },
   "outputs": [],
   "source": [
    "def psi(n, x):\n",
    "    \"\"\"\n",
    "    Computes the value of the n'th wavefunction at a position x, using the analytic solution \n",
    "    to the Schrodinger equation for an infinite potential well.\n",
    "    \n",
    "    Returns:\n",
    "        float\n",
    "            The value of the wavefunction at x\n",
    "        \n",
    "    Parameters:\n",
    "        x : float\n",
    "            The x coordinate of the system\n",
    "        \n",
    "        n : integer\n",
    "            Describes which state the wavefunction is in\n",
    "    \"\"\"\n",
    "    \n",
    "    return np.sqrt(2 / L) * np.sin(n * np.pi * x / L)"
   ]
  },
  {
   "cell_type": "markdown",
   "metadata": {
    "slideshow": {
     "slide_type": "slide"
    }
   },
   "source": [
    "<div class=\"w3-panel w3-leftbar w3-border-blue w3-pale-blue w3-padding-small\">\n",
    "    <h3 id=\"-Tip%0A\"><i class=\"fa fa-info-circle\"></i> Tip\n",
    "</h3>\n",
    "    <h5 id=\"Docstrings\">Docstrings<a class=\"anchor-link\" href=\"#Docstrings\">&#182;</a></h5><p>As you can see, I have included a documentation string ('docstring') in this function definition - it's the text in red. Simply put, a docstring is a description of what a function, class or module does. Writing docstrings is an important programming practice, as it helps other programmers understand what your code does, and how it does it. Docstrings must be written on the first line of a function declaration and must are declared with three double quotation marks (\"\"\"). If you've ever used the <code>help()</code> function in Python, you've simply been printing to screen the docstring that a previous programmer has written. Try it now by calling the <code>help()</code> function and passing our functing <code>psi</code> to it as an argument.</p>\n",
    "</div>"
   ]
  },
  {
   "cell_type": "markdown",
   "metadata": {
    "slideshow": {
     "slide_type": "slide"
    }
   },
   "source": [
    "In order to plot our eigenfunctions, we need an array containing the y-data of each eigenfunction. In Python, however, no native array structure exists and so we are going to have to use the array structure from the numpy library that we imported at the beginning of the lesson. As we are completely filling out array with values from our eigenfunctions, lets just initialise an array using `np.empty()`. \n",
    "\n",
    "Let's write a function that will output an array filled with the y-data of the n'th eigenfunction, sampling each function a certain number of times."
   ]
  },
  {
   "cell_type": "code",
   "execution_count": 4,
   "metadata": {},
   "outputs": [],
   "source": [
    "def eigenfunction(n, length):\n",
    "    \"\"\"\n",
    "    Fill an array with the y-values of the n'th eigenfunction in an infinite potential well\n",
    "    \n",
    "    Returns: \n",
    "        wav : array\n",
    "            An array containing the y-avlues\n",
    "        \n",
    "    Parameters:\n",
    "        l : integer\n",
    "            determines the length of the outputted array (array is 4 times this length)\n",
    "            \n",
    "        n : integer\n",
    "            describes the state of the wavefunction\n",
    "    \"\"\"\n",
    "    \n",
    "    length = int(length) # making sure that length is an integer\n",
    "    \n",
    "    wav = np.empty(length) # creating an empty array \n",
    "    \n",
    "    for x in np.arange(0, length):\n",
    "        wav[x] = psi(n, x * (L / length)) \n",
    "        \n",
    "    return wav"
   ]
  },
  {
   "cell_type": "markdown",
   "metadata": {
    "slideshow": {
     "slide_type": "slide"
    }
   },
   "source": [
    "Let's plot the first 3 eigenfunctions over the interval $0 < x < L$, sampling each eigenfunction 1000 times. "
   ]
  },
  {
   "cell_type": "code",
   "execution_count": 5,
   "metadata": {
    "slideshow": {
     "slide_type": "slide"
    }
   },
   "outputs": [
    {
     "data": {
      "image/png": "[encoded data removed]",
      "text/plain": [
       "<Figure size 720x360 with 1 Axes>"
      ]
     },
     "metadata": {
      "needs_background": "light"
     },
     "output_type": "display_data"
    }
   ],
   "source": [
    "length = 1000 # number of samples of each eigenfunction\n",
    "xvals = np.linspace(0, 1, length) # an array of x values from 0 to 1, in 0.001 increments\n",
    "\n",
    "# arrays of y-data for each eigenfunctions\n",
    "eig1 = eigenfunction(1, length) \n",
    "eig2 = eigenfunction(2, length)\n",
    "eig3 = eigenfunction(3, length)\n",
    "\n",
    "# some basic plotting magic to make the plots look better\n",
    "fig = plt.figure(figsize = (10, 5));\n",
    "ax = fig.add_subplot(111)\n",
    "#plt.rcParams.update({'font.size': 20})\n",
    "#plt.rc('text', usetex=True) \n",
    "#ax.set_xlabel(r'$x \\ [\\AA ]$')\n",
    "#ax.set_ylabel(r'$\\psi(x)$')\n",
    "\n",
    "# producing our plots\n",
    "ax.plot(xvals, eig1, label = 'n = 1')\n",
    "ax.plot(xvals, eig2, label = 'n = 2')\n",
    "ax.plot(xvals, eig3, label = 'n = 3')\n",
    "ax.legend(loc = 'best');"
   ]
  },
  {
   "cell_type": "markdown",
   "metadata": {
    "slideshow": {
     "slide_type": "slide"
    }
   },
   "source": [
    "We have plotted here the first 3 time-independent eigenfunctions of the infinite well. There are, however, an infinite number of solutions, since $n$ can be any positive integer. These eigenfunctions all display symmtery about the centre of the well, with odd-n eigenfunctions displaying even symmtery, and even-n eigenfunctions displaying odd symmtery. This symmtery is known as parity."
   ]
  },
  {
   "cell_type": "markdown",
   "metadata": {
    "slideshow": {
     "slide_type": "slide"
    }
   },
   "source": [
    "<div class=\"w3-panel w3-leftbar w3-border-yellow w3-pale-yellow w3-padding-small\">\n",
    "    <h3 id=\"-Parity%0A\"><i class=\"fa fa-pencil-square-o\"></i> Parity\n",
    "</h3>\n",
    "    <p>By plotting for higher values of n, check that the symmetry property of the eigenfunctions about the centre of the well does not change.</p>\n",
    "</div>"
   ]
  },
  {
   "cell_type": "markdown",
   "metadata": {
    "slideshow": {
     "slide_type": "slide"
    }
   },
   "source": [
    "<div class=\"w3-panel w3-leftbar w3-border-green w3-pale-green w3-padding-small\">\n",
    "    <h3 id=\"-Key-Points%3A%0A\"><i class=\"fa fa-key\"></i> Key Points:\n",
    "</h3>\n",
    "    <ul>\n",
    "<li>The analytic solutions to the time-independent Schrödinger equation for the infinite potential are quantised, and are known as eigenfunctions.</li>\n",
    "<li>We can plot these visualise these solutions easily using Python, and explore their symmetry properties.</li>\n",
    "</ul>\n",
    "</div>"
   ]
  },
  {
   "cell_type": "markdown",
   "metadata": {
    "slideshow": {
     "slide_type": "slide"
    }
   },
   "source": [
    "<div class=\"w3-bar w3-blue-grey\">\n",
    "<a href=\"./00_schedule.ipynb\" class=\"w3-left-align w3-bar-item w3-button w3-mobile\" style=\"width:33%\"><h2><i class=\"fa fa-angle-double-left\"></i> Previous</h2></a>\n",
    "<a href=\"./00_schedule.ipynb\" class=\"w3-bar-item w3-button w3-center w3-mobile\" style=\"width:33%\"><h2>Schedule</h2></a>\n",
    "<a href=\"./02_ipw_tdse.ipynb\" class=\"w3-right-align w3-bar-item w3-button w3-right w3-mobile\" style=\"width:33%\"><h2>Next <i class=\"fa fa-angle-double-right\"></i></h2></a>\n",
    "</div>"
   ]
  }
 ],
 "metadata": {
  "celltoolbar": "None",
  "kernelspec": {
   "display_name": "Python 3",
   "language": "python",
   "name": "python3"
  },
  "language_info": {
   "codemirror_mode": {
    "name": "ipython",
    "version": 3
   },
   "file_extension": ".py",
   "mimetype": "text/x-python",
   "name": "python",
   "nbconvert_exporter": "python",
   "pygments_lexer": "ipython3",
   "version": "3.7.3"
  },
  "livereveal": {
   "scroll": true
  }
 },
 "nbformat": 4,
 "nbformat_minor": 2
}
