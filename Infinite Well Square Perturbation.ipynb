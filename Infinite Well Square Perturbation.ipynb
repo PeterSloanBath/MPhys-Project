{
 "cells": [
  {
   "cell_type": "code",
   "execution_count": 1,
   "metadata": {},
   "outputs": [],
   "source": [
    "#Using the time-independent Schrödinger equation to find the eigenfunctions (wavefunctions) and energy levels of a \n",
    "#particle in an infinite potential well. \n",
    "\n",
    "#Firstly, import various libraries, which will later be used\n",
    "import numpy as np\n",
    "import matplotlib.pyplot as plt\n",
    "from matplotlib.animation import FuncAnimation\n",
    "import cmath\n",
    "from scipy.integrate import quad"
   ]
  },
  {
   "cell_type": "code",
   "execution_count": 2,
   "metadata": {},
   "outputs": [],
   "source": [
    "# define constants\n",
    "\n",
    "hbar = (6.626 * 10**(-34)) / (2 * np.pi) #Planck's constant divided by 2Pi\n",
    "m = 9.11 * 10**(-31) #Particle mass in Kg (in this case we assume it is an electron)\n",
    "\n",
    "L = 1 # width of the potential well\n",
    "A = np.sqrt(2 / L) # normalisation constant"
   ]
  },
  {
   "cell_type": "code",
   "execution_count": 3,
   "metadata": {},
   "outputs": [],
   "source": [
    "def energy(n):\n",
    "    \"\"\"\n",
    "    Function to calculate the energy of the particle in an infinite \n",
    "    potential well in a particular quantum state\n",
    "    \n",
    "    Returns:\n",
    "        energy : float\n",
    "                 the energy of the particle\n",
    "                 \n",
    "    Parameter:\n",
    "        n : integer\n",
    "            the state of the wavefunction\n",
    "    \"\"\"\n",
    "    \n",
    "    energy = ((n**2 * (np.pi)**2 * (hbar**2)) / (2 * m * L**2)) / (1.6 * 10**(-19))\n",
    "    return energy"
   ]
  },
  {
   "cell_type": "code",
   "execution_count": 4,
   "metadata": {},
   "outputs": [],
   "source": [
    "def solution(n, x):\n",
    "    \"\"\"\n",
    "    Function to calculate the value of the wavefunction at a given point in the infinite potential well\n",
    "    \n",
    "    Returns:\n",
    "        psi : float\n",
    "              the value of the wavefunction\n",
    "        \n",
    "    Parameters:\n",
    "        n : integer\n",
    "            the order of the wavefunction\n",
    "            \n",
    "        x : float\n",
    "            the position of the particle in the infinite potential well\n",
    "    \"\"\"\n",
    "    \n",
    "    psi = A * np.sin((n * np.pi * x) / L) #the solution to the wavefunction in an infinite potential well\n",
    "    return psi"
   ]
  },
  {
   "cell_type": "code",
   "execution_count": 5,
   "metadata": {},
   "outputs": [],
   "source": [
    "def integrand(n, V):\n",
    "    integrand = (A * np.sin((n * np.pi * x) / L)) * (np.conj(A * np.sin((n * np.pi * x) / L))) * V"
   ]
  },
  {
   "cell_type": "code",
   "execution_count": 6,
   "metadata": {},
   "outputs": [],
   "source": [
    "def firstperturb(w, V, n):\n",
    "    if w > L:\n",
    "        print (\"Perturbation width exceeds that of the infinite well. Reduce perturbation width.\")\n",
    "    else:\n",
    "        def integrand(x):\n",
    "            return (A * np.sin((n * np.pi * x) / L)) * (np.conj(A * np.sin((n * np.pi * x) / L))) * V\n",
    "        \n",
    "        perturb_1 = quad(integrand, L/2 - w/2, L/2 + w/2)\n",
    "        print(\"First order perturbation to the energy of the system in the\", n, \"th state due to a potential 'bump' of width\", w, \"and magnitude\", V, \"at the centre of the well:\", perturb_1[0])"
   ]
  },
  {
   "cell_type": "code",
   "execution_count": 7,
   "metadata": {},
   "outputs": [
    {
     "name": "stdout",
     "output_type": "stream",
     "text": [
      "First order perturbation to the energy of the system in the 1 th state due to a potential 'bump' of width 0.2 and magnitude 2 at the centre of the well: 0.7741957135154556\n"
     ]
    }
   ],
   "source": [
    "firstperturb(0.2, 2, 1)"
   ]
  },
  {
   "cell_type": "code",
   "execution_count": 8,
   "metadata": {},
   "outputs": [
    {
     "data": {
      "text/plain": [
       "3.7650826701426996e-19"
      ]
     },
     "execution_count": 8,
     "metadata": {},
     "output_type": "execute_result"
    }
   ],
   "source": [
    "energy(1)"
   ]
  },
  {
   "cell_type": "code",
   "execution_count": null,
   "metadata": {},
   "outputs": [],
   "source": []
  }
 ],
 "metadata": {
  "kernelspec": {
   "display_name": "Python 3",
   "language": "python",
   "name": "python3"
  },
  "language_info": {
   "codemirror_mode": {
    "name": "ipython",
    "version": 3
   },
   "file_extension": ".py",
   "mimetype": "text/x-python",
   "name": "python",
   "nbconvert_exporter": "python",
   "pygments_lexer": "ipython3",
   "version": "3.7.3"
  }
 },
 "nbformat": 4,
 "nbformat_minor": 2
}
