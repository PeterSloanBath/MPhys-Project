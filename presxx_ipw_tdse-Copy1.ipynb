{
 "cells": [
  {
   "cell_type": "markdown",
   "metadata": {
    "slideshow": {
     "slide_type": "slide"
    }
   },
   "source": [
    "# Time-Dependence in the Infinite Potential Well"
   ]
  },
  {
   "cell_type": "markdown",
   "metadata": {},
   "source": [
    "## Import Necessary Libraries"
   ]
  },
  {
   "cell_type": "code",
   "execution_count": null,
   "metadata": {
    "slideshow": {
     "slide_type": "slide"
    }
   },
   "outputs": [],
   "source": [
    "import numpy as np\n",
    "import matplotlib.pyplot as plt\n",
    "from matplotlib.animation import FuncAnimation"
   ]
  },
  {
   "cell_type": "markdown",
   "metadata": {},
   "source": [
    "## Define a Few Constants"
   ]
  },
  {
   "cell_type": "code",
   "execution_count": null,
   "metadata": {},
   "outputs": [],
   "source": [
    "# width of the well in a.u. (i.e. 1 bohr radius)\n",
    "L = 1 \n",
    "\n",
    "# length of arrays\n",
    "xmax = 500\n",
    "\n",
    "# setting the energy level that we want to simulate\n",
    "num = 4"
   ]
  },
  {
   "cell_type": "markdown",
   "metadata": {},
   "source": [
    "## Eigenfunctions of potential well"
   ]
  },
  {
   "cell_type": "code",
   "execution_count": null,
   "metadata": {},
   "outputs": [],
   "source": [
    "def eigenfunction(n, length):\n",
    "    \n",
    "    wav = np.empty(length) # creating an empty array \n",
    "    \n",
    "    for x in np.arange(0, length):\n",
    "        wav[x] = np.sqrt(2 / L) * np.sin(n * np.pi * x / length)\n",
    "        \n",
    "    return wav\n",
    "\n",
    "plt.plot(eigenfunction(num, xmax))"
   ]
  },
  {
   "cell_type": "markdown",
   "metadata": {},
   "source": [
    "## Animation Function"
   ]
  },
  {
   "cell_type": "code",
   "execution_count": null,
   "metadata": {},
   "outputs": [],
   "source": [
    "def animate(t):\n",
    "    \"\"\"\n",
    "    this function gets called by animation (imported from matplotlib) each time this is called, \n",
    "    it will replot the plotting objects with a different values for t\n",
    "    \n",
    "    Parameters:\n",
    "        t : float\n",
    "            used as a counter to display different frames of the animation \n",
    "    \n",
    "    \"\"\"\n",
    "    energy = ((num * np.pi)**2)/(2*L)\n",
    "    \n",
    "    # sets y-data data for plotting\n",
    "    f = eigenfunction(num, xmax) * np.exp(-1j * energy * np.pi**2  * t) \n",
    "    \n",
    "    wave_real.set_ydata(f.real)\n",
    "    wave_imag.set_ydata(f.imag)\n",
    "    prob.set_ydata(f * conj(f))"
   ]
  },
  {
   "cell_type": "markdown",
   "metadata": {},
   "source": [
    "## Creating the animation"
   ]
  },
  {
   "cell_type": "code",
   "execution_count": null,
   "metadata": {},
   "outputs": [],
   "source": [
    "# required to display animated plots\n",
    "%matplotlib notebook\n",
    "\n",
    "# array of x values for plotting\n",
    "xvals = np.linspace(0, 1, xmax)\n",
    "\n",
    "# create figure and axes object\n",
    "fig, (ax1, ax2) = plt.subplots(2, figsize=(10, 10)) \n",
    "\n",
    "# draw the first frame of the animation on our plots\n",
    "wave_real, = ax1.plot(xvals, eigenfunction(num, xmax),'-r') \n",
    "wave_imag, = ax1.plot(xvals, eigenfunction(num, xmax),'-b') \n",
    "prob, = ax2.plot(xvals, eigenfunction(num, xmax)**2, '-k') \n",
    "\n",
    "\n",
    "\n",
    "\n",
    "def init():\n",
    "    \"\"\"\n",
    "    initialize the figure object \n",
    "    \n",
    "    Returns:\n",
    "        wave_real, wave_imag, prob : the objects that will appear on our plots and be called by the animate function\n",
    "    \n",
    "    \"\"\"\n",
    "\n",
    "    plt.rcParams.update({'font.size': 14})\n",
    "    plt.rc('text', usetex=True) \n",
    "    ax1.set_xlabel(r'$x \\ [\\AA ]$')\n",
    "    ax1.set_ylabel(r'$\\Psi(x, t)$')\n",
    "    ax2.set_xlabel(r'$x \\ [\\AA ]$')\n",
    "    ax2.set_ylabel(r'$|\\psi(x)|^2$')\n",
    "    ax1.set_xlim(0, 1)\n",
    "    ax2.set_xlim(0, 1)\n",
    "\n",
    "    return wave_real, wave_imag, prob\n",
    "\n",
    "\n",
    "\n",
    "# the FuncAnimation function iterates through our animate function using the steps array\n",
    "step = 0.0001 # stepsize  \n",
    "steps = np.arange(0, 200, step)\n",
    "\n",
    "# our animation\n",
    "ani = FuncAnimation(fig, animate, steps, init_func=init, interval=25, blit=True) \n",
    "\n",
    "plt.show()"
   ]
  },
  {
   "cell_type": "code",
   "execution_count": null,
   "metadata": {},
   "outputs": [],
   "source": []
  },
  {
   "cell_type": "code",
   "execution_count": null,
   "metadata": {},
   "outputs": [],
   "source": []
  },
  {
   "cell_type": "code",
   "execution_count": null,
   "metadata": {},
   "outputs": [],
   "source": []
  }
 ],
 "metadata": {
  "celltoolbar": "Slideshow",
  "kernelspec": {
   "display_name": "Python 3",
   "language": "python",
   "name": "python3"
  },
  "language_info": {
   "codemirror_mode": {
    "name": "ipython",
    "version": 3
   },
   "file_extension": ".py",
   "mimetype": "text/x-python",
   "name": "python",
   "nbconvert_exporter": "python",
   "pygments_lexer": "ipython3",
   "version": "3.7.3"
  }
 },
 "nbformat": 4,
 "nbformat_minor": 2
}
